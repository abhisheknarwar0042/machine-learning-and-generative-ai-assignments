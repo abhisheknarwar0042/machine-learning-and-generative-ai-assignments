{
 "cells": [
  {
   "cell_type": "code",
   "execution_count": 4,
   "id": "02c7f02c-e0cf-40d2-a9a9-2927f60ef922",
   "metadata": {},
   "outputs": [
    {
     "data": {
      "text/plain": [
       "2"
      ]
     },
     "execution_count": 4,
     "metadata": {},
     "output_type": "execute_result"
    }
   ],
   "source": [
    "#26. Access the 3rd element from the given NumPy array.\n",
    "import numpy as np\n",
    "arr=np.array([9,5,2,6,7,2])\n",
    "arr[2]\n"
   ]
  },
  {
   "cell_type": "code",
   "execution_count": 18,
   "id": "5f7047f1-e39c-406a-a109-ce88413e81ac",
   "metadata": {},
   "outputs": [
    {
     "name": "stdout",
     "output_type": "stream",
     "text": [
      "7\n"
     ]
    }
   ],
   "source": [
    "#27. Retrieve the element at index (1, 2) from a 2D array.\n",
    "\n",
    "array_2d=np.array([[1,2,3,4],[5,6,7,8]])\n",
    "print(array_2d[1,2])\n"
   ]
  },
  {
   "cell_type": "code",
   "execution_count": 20,
   "id": "ea6ce7e8-141a-44ff-8129-193cf694117b",
   "metadata": {},
   "outputs": [
    {
     "name": "stdout",
     "output_type": "stream",
     "text": [
      "[6 8 9]\n"
     ]
    }
   ],
   "source": [
    "#28. Extract elements greater than 5 using boolean indexing.\n",
    "\n",
    "import numpy as np\n",
    "\n",
    "arr = np.array([2, 6, 3, 8, 5, 9])\n",
    "result = arr[arr > 5]\n",
    "print(result)\n"
   ]
  },
  {
   "cell_type": "code",
   "execution_count": 22,
   "id": "86e33fb0-813e-4df4-b376-073512715d67",
   "metadata": {},
   "outputs": [
    {
     "name": "stdout",
     "output_type": "stream",
     "text": [
      "[3 8 5 9]\n"
     ]
    }
   ],
   "source": [
    "#29. Slice elements from index 2 to 5 (inclusive) from a NumPy array.\n",
    "result = arr[2:6]\n",
    "print(result)\n"
   ]
  },
  {
   "cell_type": "code",
   "execution_count": 24,
   "id": "cd2ba95b-bb02-408a-af16-90664b0161ab",
   "metadata": {},
   "outputs": [
    {
     "name": "stdout",
     "output_type": "stream",
     "text": [
      "[[2 3]\n",
      " [5 6]]\n"
     ]
    }
   ],
   "source": [
    "#30. Slice the sub-array [[2, 3], [5, 6]] from a 2D array\n",
    "\n",
    "\n",
    "import numpy as np\n",
    "\n",
    "array_2d = np.array([[1, 2, 3],\n",
    "                     [4, 5, 6]])\n",
    "\n",
    "result = array_2d[:, 1:3]\n",
    "print(result)\n"
   ]
  },
  {
   "cell_type": "code",
   "execution_count": 26,
   "id": "629ce6e0-38a7-478e-a34b-24b6d24ff365",
   "metadata": {},
   "outputs": [
    {
     "name": "stdout",
     "output_type": "stream",
     "text": [
      "[20 60 70]\n"
     ]
    }
   ],
   "source": [
    "#31. Extract elements based on indices from a 2D array.\n",
    "\n",
    "arr = np.array([[10, 20, 30],\n",
    "                [40, 50, 60],\n",
    "                [70, 80, 90]])\n",
    "\n",
    "# Extract elements at positions: (0,1), (1,2), (2,0)\n",
    "rows = np.array([0, 1, 2])\n",
    "cols = np.array([1, 2, 0])\n",
    "\n",
    "result = arr[rows, cols]\n",
    "print(result)\n",
    "\n",
    "\n"
   ]
  },
  {
   "cell_type": "code",
   "execution_count": 28,
   "id": "34b37275-632d-4ed4-977f-7aa7aa14ad27",
   "metadata": {},
   "outputs": [
    {
     "name": "stdout",
     "output_type": "stream",
     "text": [
      "[20 25]\n"
     ]
    }
   ],
   "source": [
    "#32. Filter elements greater than a threshold using boolean indexing.\n",
    "arr = np.array([5, 10, 15, 20, 25])\n",
    "\n",
    "result = arr[arr > 15]\n",
    "print(result)\n"
   ]
  },
  {
   "cell_type": "code",
   "execution_count": 30,
   "id": "03519e3a-b356-44d8-ae06-7f248c1674e1",
   "metadata": {},
   "outputs": [
    {
     "name": "stdout",
     "output_type": "stream",
     "text": [
      "[4 5]\n"
     ]
    }
   ],
   "source": [
    "#33. Extract specific elements from a 3D array using separate index arrays.\n",
    "arr = np.array([[[1, 2], [3, 4]],\n",
    "                [[5, 6], [7, 8]]])\n",
    "\n",
    "# Example: Extract elements at positions (0,1,1), (1,0,0)\n",
    "x = np.array([0, 1])   # First dimension\n",
    "y = np.array([1, 0])   # Second dimension\n",
    "z = np.array([1, 0])   # Third dimension\n",
    "\n",
    "result = arr[x, y, z]\n",
    "print(result)\n"
   ]
  },
  {
   "cell_type": "code",
   "execution_count": 32,
   "id": "2d7669ca-7034-43bf-92fa-7a58b0d70569",
   "metadata": {},
   "outputs": [
    {
     "name": "stdout",
     "output_type": "stream",
     "text": [
      "[ 8 11 14]\n"
     ]
    }
   ],
   "source": [
    "\n",
    "#34. Return elements satisfying two boolean conditions.\n",
    "arr = np.array([2, 5, 8, 11, 14, 17])\n",
    "\n",
    "# Example: Elements > 5 and < 15\n",
    "result = arr[(arr > 5) & (arr < 15)]\n",
    "print(result)\n"
   ]
  },
  {
   "cell_type": "code",
   "execution_count": 34,
   "id": "cfa6d4c2-d4de-411e-9635-75b8b4b12bb3",
   "metadata": {},
   "outputs": [
    {
     "name": "stdout",
     "output_type": "stream",
     "text": [
      "[30 40 80]\n"
     ]
    }
   ],
   "source": [
    "\n",
    "#35. Extract elements from a 2D array using separate row and column index arrays\n",
    "arr = np.array([[10, 20, 30],\n",
    "                [40, 50, 60],\n",
    "                [70, 80, 90]])\n",
    "\n",
    "rows = np.array([0, 1, 2])\n",
    "cols = np.array([2, 0, 1])\n",
    "\n",
    "result = arr[rows, cols]\n",
    "print(result)\n"
   ]
  },
  {
   "cell_type": "code",
   "execution_count": null,
   "id": "b2a7c511-8dbe-4274-af13-c7bc0d8569fe",
   "metadata": {},
   "outputs": [],
   "source": []
  }
 ],
 "metadata": {
  "kernelspec": {
   "display_name": "Python 3 (ipykernel)",
   "language": "python",
   "name": "python3"
  },
  "language_info": {
   "codemirror_mode": {
    "name": "ipython",
    "version": 3
   },
   "file_extension": ".py",
   "mimetype": "text/x-python",
   "name": "python",
   "nbconvert_exporter": "python",
   "pygments_lexer": "ipython3",
   "version": "3.12.4"
  }
 },
 "nbformat": 4,
 "nbformat_minor": 5
}
