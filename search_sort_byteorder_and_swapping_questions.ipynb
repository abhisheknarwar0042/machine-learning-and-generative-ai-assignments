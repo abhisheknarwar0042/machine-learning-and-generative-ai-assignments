{
 "cells": [
  {
   "cell_type": "code",
   "execution_count": 4,
   "id": "bed19128-4d79-4f4b-b767-dbd27b95d125",
   "metadata": {},
   "outputs": [
    {
     "name": "stdout",
     "output_type": "stream",
     "text": [
      "66. Index of element 30:\n",
      " (array([2], dtype=int64),)\n"
     ]
    }
   ],
   "source": [
    "import numpy as np\n",
    "\n",
    "# 66. Find index of a specific element in an array\n",
    "arr = np.array([10, 20, 30, 40, 50])\n",
    "element = 30\n",
    "index = np.where(arr == element)\n",
    "print(\"66. Index of element 30:\\n\", index)\n",
    "\n"
   ]
  },
  {
   "cell_type": "code",
   "execution_count": 6,
   "id": "bab33714-757f-42d8-9535-d4c731aa5433",
   "metadata": {},
   "outputs": [
    {
     "name": "stdout",
     "output_type": "stream",
     "text": [
      "67. Original Random Array:\n",
      " [49 77  2 40 81 88  5 81 17 32]\n",
      "67. Sorted Array (Ascending):\n",
      " [ 2  5 17 32 40 49 77 81 81 88]\n"
     ]
    }
   ],
   "source": [
    "\n",
    "\n",
    "# 67. Sort a random array in ascending order\n",
    "arr2 = np.random.randint(1, 101, 10)  # Random array of size 10, values between 1 and 100\n",
    "sorted_arr = np.sort(arr2)\n",
    "print(\"67. Original Random Array:\\n\", arr2)\n",
    "print(\"67. Sorted Array (Ascending):\\n\", sorted_arr)\n",
    "\n"
   ]
  },
  {
   "cell_type": "code",
   "execution_count": 12,
   "id": "a8b83eb5-faf0-4f85-b90c-cedf58b333e4",
   "metadata": {},
   "outputs": [
    {
     "name": "stdout",
     "output_type": "stream",
     "text": [
      "68. Elements greater than 20:\n",
      " [25 35 45]\n"
     ]
    }
   ],
   "source": [
    "\n",
    "\n",
    "# 68. Filter elements greater than 20\n",
    "arr3 = np.array([5, 15, 25, 35, 10, 45])\n",
    "filtered_greater_20 = arr3[arr3 > 20]\n",
    "print(\"68. Elements greater than 20:\\n\", filtered_greater_20)\n",
    "\n"
   ]
  },
  {
   "cell_type": "code",
   "execution_count": 14,
   "id": "ae8bd7ab-41fe-4ec9-817a-a2e74760569b",
   "metadata": {},
   "outputs": [
    {
     "name": "stdout",
     "output_type": "stream",
     "text": [
      "69. Elements divisible by 3:\n",
      " [ 3  6  9 15]\n"
     ]
    }
   ],
   "source": [
    "# 69. Filter elements divisible by 3\n",
    "arr4 = np.array([3, 6, 9, 10, 15, 20, 25])\n",
    "divisible_by_3 = arr4[arr4 % 3 == 0]\n",
    "print(\"69. Elements divisible by 3:\\n\", divisible_by_3)\n",
    "\n",
    "\n",
    "\n"
   ]
  },
  {
   "cell_type": "code",
   "execution_count": 16,
   "id": "0ffdfe02-e832-43ff-8830-73085d144fe7",
   "metadata": {},
   "outputs": [
    {
     "name": "stdout",
     "output_type": "stream",
     "text": [
      "70. Elements between 20 and 40 (inclusive):\n",
      " [20 25 30 40]\n"
     ]
    }
   ],
   "source": [
    "\n",
    "# 70. Filter elements between 20 and 40 (inclusive)\n",
    "arr5 = np.array([10, 20, 25, 30, 40, 45, 50])\n",
    "between_20_and_40 = arr5[(arr5 >= 20) & (arr5 <= 40)]\n",
    "print(\"70. Elements between 20 and 40 (inclusive):\\n\", between_20_and_40)\n"
   ]
  },
  {
   "cell_type": "code",
   "execution_count": 18,
   "id": "181c4d7e-9378-4b9e-a036-481057a8cb24",
   "metadata": {},
   "outputs": [
    {
     "name": "stdout",
     "output_type": "stream",
     "text": [
      "Byte Order of array:\n",
      "=\n"
     ]
    }
   ],
   "source": [
    "# 71. Check byte order of a NumPy array using dtype.byteorder\n",
    "arr = np.array([1, 2, 3], dtype=np.int16)\n",
    "print(\"Byte Order of array:\")\n",
    "print(arr.dtype.byteorder)"
   ]
  },
  {
   "cell_type": "code",
   "execution_count": 20,
   "id": "6081a805-8f10-486b-a47f-171ee67ff5eb",
   "metadata": {},
   "outputs": [
    {
     "name": "stdout",
     "output_type": "stream",
     "text": [
      " Original Array before byteswap:\n",
      " [1 2 3]\n",
      "Array after in-place byteswap:\n",
      " [256 512 768]\n"
     ]
    }
   ],
   "source": [
    "# 72. Perform in-place byte swapping using byteswap()\n",
    "print(\" Original Array before byteswap:\\n\", arr)\n",
    "\n",
    "# In-place byte swap\n",
    "arr.byteswap(inplace=True)\n",
    "print(\"Array after in-place byteswap:\\n\", arr)\n"
   ]
  },
  {
   "cell_type": "code",
   "execution_count": null,
   "id": "dfcfd719-9a70-44a8-af38-e859e816b8cf",
   "metadata": {},
   "outputs": [],
   "source": []
  }
 ],
 "metadata": {
  "kernelspec": {
   "display_name": "Python 3 (ipykernel)",
   "language": "python",
   "name": "python3"
  },
  "language_info": {
   "codemirror_mode": {
    "name": "ipython",
    "version": 3
   },
   "file_extension": ".py",
   "mimetype": "text/x-python",
   "name": "python",
   "nbconvert_exporter": "python",
   "pygments_lexer": "ipython3",
   "version": "3.12.4"
  }
 },
 "nbformat": 4,
 "nbformat_minor": 5
}
