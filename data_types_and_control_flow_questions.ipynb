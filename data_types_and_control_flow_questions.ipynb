{
 "cells": [
  {
   "cell_type": "code",
   "execution_count": 20,
   "id": "a3abe99c-4d39-4aab-97e4-d5017fcfb5d7",
   "metadata": {},
   "outputs": [],
   "source": [
    "#. Write a Python program to find the second largest number in a list without using the sort() method.\n",
    "#lst=[1,3,6,9,2]    #6\n",
    "import heapq\n",
    "class Solution:\n",
    "    def nth_largest(self,lst):\n",
    "        min_heap=[]\n",
    "        for num in lst:\n",
    "            heapq.heappush(min_heap,num)\n",
    "            if len(min_heap)>2:\n",
    "                heapq.heappop(min_heap)\n",
    "        return min_heap[0]\n",
    "\n",
    "        \n"
   ]
  },
  {
   "cell_type": "code",
   "execution_count": 22,
   "id": "3f035684-0b04-46cf-a378-afab153081d2",
   "metadata": {},
   "outputs": [
    {
     "data": {
      "text/plain": [
       "6"
      ]
     },
     "execution_count": 22,
     "metadata": {},
     "output_type": "execute_result"
    }
   ],
   "source": [
    "\n",
    "s=Solution()\n",
    "s.nth_largest([1,3,6,9,2])\n"
   ]
  },
  {
   "cell_type": "code",
   "execution_count": 49,
   "id": "8552ac24-a72d-4fab-be9d-0aa4ce673499",
   "metadata": {},
   "outputs": [
    {
     "name": "stdout",
     "output_type": "stream",
     "text": [
      "[1, 2, 8, 9]\n"
     ]
    }
   ],
   "source": [
    "#. Remove duplicates from a list without using set() and return it in sorted order\n",
    "\n",
    "#lst=[1,9,2,8,2,1]    #[1,2,8,9]\n",
    "\n",
    "class Solution:\n",
    "    def remove_duplicate(self,lst):\n",
    "        list=[]\n",
    "        for i in lst:\n",
    "            if i not in list:\n",
    "                list.append(i)\n",
    "        return sorted(list)\n",
    "        \n",
    "s=Solution()\n",
    "print(s.remove_duplicate([1,9,2,8,2,1]))\n",
    "\n"
   ]
  },
  {
   "cell_type": "code",
   "execution_count": 73,
   "id": "64fbef65-8168-46a2-b214-dcd3387a091f",
   "metadata": {},
   "outputs": [
    {
     "name": "stdout",
     "output_type": "stream",
     "text": [
      "21\n",
      "3.5\n"
     ]
    }
   ],
   "source": [
    "# Find the sum and average of a list of numbers.\n",
    "class Solution:\n",
    "    def sum(self,lst):\n",
    "        sum=0\n",
    "        for number in lst:\n",
    "            sum+=number\n",
    "        return sum\n",
    "    def avg(self,lst):\n",
    "        return sum(lst)/len(lst)\n",
    "\n",
    "s=Solution()\n",
    "print(s.sum([1,2,3,4,5,6]))\n",
    "print(s.avg([1,2,3,4,5,6]))\n",
    "    \n",
    "            \n",
    "            "
   ]
  },
  {
   "cell_type": "code",
   "execution_count": 101,
   "id": "287ce75f-c3ba-4a0d-aa57-197d5d439dd1",
   "metadata": {},
   "outputs": [
    {
     "name": "stdout",
     "output_type": "stream",
     "text": [
      "1 is not a prime number\n",
      "3 is a prime number\n",
      "5 is a prime number\n",
      "7 is a prime number\n"
     ]
    }
   ],
   "source": [
    "#Create a program to check if a number is prime\n",
    "#means number divide by itself or 1----count of numbers is only 2 numbers \n",
    "class Solution:\n",
    "    def is_prime(self, lst):\n",
    "        for num in lst:\n",
    "            if num <= 1:\n",
    "                print(num, \"is not a prime number\")\n",
    "                continue\n",
    "            \n",
    "            count = 0\n",
    "            for i in range(1, num + 1):\n",
    "                if num % i == 0:\n",
    "                    count += 1\n",
    "\n",
    "            if count == 2:\n",
    "                print(num, \"is a prime number\")\n",
    "            else:\n",
    "                print(num, \"is not a prime number\")\n",
    "\n",
    "lst = [1, 3, 5, 7]\n",
    "s = Solution()\n",
    "s.is_prime(lst)\n",
    "\n",
    "\n",
    "\n",
    "\n",
    "\n",
    "\n"
   ]
  },
  {
   "cell_type": "code",
   "execution_count": 129,
   "id": "a6743736-037a-4dd6-bd98-b288f83b804e",
   "metadata": {},
   "outputs": [
    {
     "name": "stdout",
     "output_type": "stream",
     "text": [
      "digit_count: 3\n",
      "vowels_count: 3\n",
      "constants_count: 5\n",
      "special_char_count: 3\n"
     ]
    }
   ],
   "source": [
    "#Count the number of vowels, consonants, digits, and special characters in a given string\n",
    "#str=\"abhishek@.#123\"\n",
    "#isdigit() function to check digit\n",
    "#isalpha() function to check alphabets  \n",
    "\n",
    "class Solution:\n",
    "    def digit_count(self,str):\n",
    "        count=0\n",
    "        for i in str:\n",
    "            if i.isdigit():\n",
    "                count+=1\n",
    "        return count\n",
    "    def vowels_count(self,str):\n",
    "        count=0\n",
    "        vowels='aeiouAEIOU'\n",
    "        for i in str:\n",
    "            if i in vowels :\n",
    "                count+=1\n",
    "        return count\n",
    "    def constants_counts(self,str):\n",
    "        count=0\n",
    "        for i in str:\n",
    "            if i.isalpha() and i not in 'aeiouAEIOU':\n",
    "                count+=1\n",
    "        return count\n",
    "    def special_char_count(self,str):\n",
    "        count=0\n",
    "        special_char='.#@!'\n",
    "        for i in str:\n",
    "            if i in special_char:\n",
    "                count+=1\n",
    "        return count\n",
    "str=\"abhishek@.#123\"\n",
    "s=Solution()\n",
    "print('digit_count:',s.digit_count(str))\n",
    "print('vowels_count:',s.vowels_count(str))\n",
    "print('constants_count:',s.constants_counts(str))\n",
    "print('special_char_count:',s.special_char_count(str))\n",
    "\n",
    "       \n",
    "        \n",
    "\n",
    "\n",
    "    "
   ]
  },
  {
   "cell_type": "code",
   "execution_count": 145,
   "id": "7e3f200c-5c31-4353-a7f1-632950089f19",
   "metadata": {},
   "outputs": [
    {
     "name": "stdout",
     "output_type": "stream",
     "text": [
      "2 4 6 8 10 12 14 16 18 20 22 24 26 28 30 32 34 36 38 40 42 44 46 48 50 52 54 56 58 60 62 64 66 68 70 72 74 76 78 80 82 84 86 88 90 92 94 96 98 "
     ]
    }
   ],
   "source": [
    "#6. Print all even numbers between 1 and 100 using a for loop\n",
    "\n",
    "\n",
    "class Solution:\n",
    "    def print_even(self):\n",
    "        for i in range(2,100):\n",
    "            if i%2==0:\n",
    "                print(i,end=\" \")\n",
    "s=Solution()\n",
    "s.print_even()"
   ]
  },
  {
   "cell_type": "code",
   "execution_count": 283,
   "id": "4f69067e-3dcf-46cc-85b4-5adf94c35cbc",
   "metadata": {},
   "outputs": [
    {
     "name": "stdin",
     "output_type": "stream",
     "text": [
      " 8\n"
     ]
    },
    {
     "name": "stdout",
     "output_type": "stream",
     "text": [
      "8 16 24 32 40 48 56 64 72 80 "
     ]
    }
   ],
   "source": [
    "#. Write a program to print the multiplication table of a number entered by the user\n",
    "\n",
    "class Solution:\n",
    "    def multiplication(self,number):\n",
    "        for i in range(1,11):\n",
    "            print (number*i,end=\" \")\n",
    "number=int(input())\n",
    "s=Solution()\n",
    "s.multiplication(number)\n",
    "            \n",
    "            \n",
    "            \n",
    "\n"
   ]
  },
  {
   "cell_type": "code",
   "execution_count": 205,
   "id": "3ab3315d-0d58-4bfb-a98d-19fed09eb933",
   "metadata": {},
   "outputs": [
    {
     "name": "stdout",
     "output_type": "stream",
     "text": [
      "[15, 30, 45, 60, 75, 90]\n"
     ]
    }
   ],
   "source": [
    "# Create a list of numbers from 1 to 100 that are divisible by both 3 and 5\n",
    "\n",
    "class Solution:\n",
    "    def create_list(self):\n",
    "        lst=[]\n",
    "        for i in range(1,101):\n",
    "            if i%3==0 and i%5==0:\n",
    "                lst.append(i)\n",
    "        return lst\n",
    "s=Solution()\n",
    "print(s.create_list())\n",
    "        \n",
    "\n"
   ]
  },
  {
   "cell_type": "code",
   "execution_count": 203,
   "id": "3aaa31d6-c1d4-44fc-b73f-afd2bfaf3238",
   "metadata": {},
   "outputs": [
    {
     "name": "stdout",
     "output_type": "stream",
     "text": [
      "[15, 30, 45, 60, 75, 90]\n"
     ]
    }
   ],
   "source": [
    "print([i for i in range(1, 101) if i % 3 == 0 and i % 5 == 0])\n"
   ]
  },
  {
   "cell_type": "code",
   "execution_count": 255,
   "id": "3df8788b-9757-4a3e-ba4d-1bb7fb7dfb2b",
   "metadata": {},
   "outputs": [
    {
     "name": "stdout",
     "output_type": "stream",
     "text": [
      "321\n"
     ]
    }
   ],
   "source": [
    "#9. Take a number input and print its reverse\n",
    "class Solution:\n",
    "    def reverse(self,num):\n",
    "        rev=0\n",
    "        while num!=0:\n",
    "            r=num%10\n",
    "            num=num//10\n",
    "            rev=rev*10+r\n",
    "        return rev\n",
    "           \n",
    "        \n",
    "         \n",
    "        \n",
    "     \n",
    "s=Solution()\n",
    "print(s.reverse(123))\n"
   ]
  },
  {
   "cell_type": "code",
   "execution_count": 261,
   "id": "84b7487a-eb1f-424b-b5c9-d1793043219c",
   "metadata": {},
   "outputs": [
    {
     "data": {
      "text/plain": [
       "{'s': 2, 'o': 1, 'm': 1, 'e': 2}"
      ]
     },
     "execution_count": 261,
     "metadata": {},
     "output_type": "execute_result"
    }
   ],
   "source": [
    "# Count the frequency of each character in a string and store it in a dictionary\n",
    "#string='somese'\n",
    "\n",
    "class Solution:\n",
    "    def frequency_count(self,str):\n",
    "        dict={}\n",
    "        for i in str:\n",
    "            if i  in dict:\n",
    "                dict[i]+=1\n",
    "            else:\n",
    "                dict[i]=1\n",
    "        return dict\n",
    "s=Solution()\n",
    "s.frequency_count('somese')\n",
    "                \n",
    "            \n",
    "        "
   ]
  },
  {
   "cell_type": "code",
   "execution_count": 295,
   "id": "9c822d22-6000-40ee-a122-f220a37c2af5",
   "metadata": {},
   "outputs": [
    {
     "name": "stdout",
     "output_type": "stream",
     "text": [
      "2 3 5 7 11 13 17 19 23 29 "
     ]
    }
   ],
   "source": [
    "#1. Write a Python program to generate the first n prime numbers\n",
    "class Solution:\n",
    "    def is_prime(self, number):\n",
    "        \n",
    "        if number < 2:\n",
    "            return False\n",
    "        for i in range(2, number):\n",
    "            if number % i == 0:\n",
    "                return False\n",
    "        return True\n",
    "\n",
    "    def generate_prime(self, n):\n",
    "        count = 0       \n",
    "        num = 2        \n",
    "        while count < n:\n",
    "            if self.is_prime(num):\n",
    "                print(num, end=\" \")\n",
    "                count += 1\n",
    "            num += 1\n",
    "\n",
    "s = Solution()\n",
    "s.generate_prime(10)  \n",
    "        \n",
    "\n",
    "\n",
    "\n",
    "\n",
    "\n"
   ]
  },
  {
   "cell_type": "code",
   "execution_count": 285,
   "id": "6edc9629-a226-49a8-b043-46d8e19a2758",
   "metadata": {},
   "outputs": [
    {
     "name": "stdout",
     "output_type": "stream",
     "text": [
      "True\n",
      "False\n"
     ]
    }
   ],
   "source": [
    "#2. Check whether a number is a palindrome or not\n",
    "\n",
    "class Solution:\n",
    "    def is_palindrome(self, num):\n",
    "        original = num\n",
    "        rev = 0\n",
    "        while num > 0:\n",
    "            digit = num % 10\n",
    "            rev = rev * 10 + digit\n",
    "            num = num // 10\n",
    "        return rev == original\n",
    "\n",
    "s = Solution()\n",
    "print(s.is_palindrome(121))  \n",
    "print(s.is_palindrome(123))  \n",
    "\n",
    "\n",
    "\n",
    "\n",
    "\n",
    "\n"
   ]
  },
  {
   "cell_type": "code",
   "execution_count": 287,
   "id": "f34658e6-8bf0-406f-ac90-d9eb04c1e68a",
   "metadata": {},
   "outputs": [
    {
     "name": "stdout",
     "output_type": "stream",
     "text": [
      "3\n"
     ]
    }
   ],
   "source": [
    "#3. Count how many times a specific element appears in a list\n",
    "class Solution:\n",
    "    def count_element(self, lst, element):\n",
    "        count = 0\n",
    "        for i in lst:\n",
    "            if i == element:\n",
    "                count += 1\n",
    "        return count\n",
    "\n",
    "s = Solution()\n",
    "print(s.count_element([1, 2, 3, 2, 4, 2, 5], 2))  \n"
   ]
  },
  {
   "cell_type": "code",
   "execution_count": 289,
   "id": "11ce6cc8-3d83-4517-8950-25be407211f3",
   "metadata": {},
   "outputs": [
    {
     "name": "stdout",
     "output_type": "stream",
     "text": [
      "3\n"
     ]
    }
   ],
   "source": [
    "class Solution:\n",
    "    def count_element(self, lst, element):\n",
    "        return lst.count(element)\n",
    "\n",
    "s = Solution()\n",
    "print(s.count_element([1, 2, 3, 2, 4, 2, 5], 2)) \n"
   ]
  },
  {
   "cell_type": "code",
   "execution_count": 291,
   "id": "dc7ba713-bb07-4ca0-b051-97a593ae8991",
   "metadata": {},
   "outputs": [
    {
     "name": "stdout",
     "output_type": "stream",
     "text": [
      "[4, 16, 36, 64, 100, 144, 196, 256, 324, 400, 484, 576, 676, 784, 900, 1024, 1156, 1296, 1444, 1600, 1764, 1936, 2116, 2304, 2500]\n"
     ]
    }
   ],
   "source": [
    "#4. Create a list of squares of even numbers between 1 and 50.\n",
    "\n",
    "lst=[i**2 for i in range(1,51) if i%2==0]\n",
    "print(lst)\n"
   ]
  },
  {
   "cell_type": "code",
   "execution_count": 293,
   "id": "7222a8c4-c81f-48db-90fc-c19f40c655c2",
   "metadata": {},
   "outputs": [
    {
     "name": "stdout",
     "output_type": "stream",
     "text": [
      "[1, 9, 2, 8]\n"
     ]
    }
   ],
   "source": [
    "#5. Accept a list and return a new list with only unique elements (preserve order).\n",
    "\n",
    "\n",
    "#lst=[1,9,2,8,2,1]    #[1,2,8,9]\n",
    "\n",
    "class Solution:\n",
    "    def remove_duplicate(self,lst):\n",
    "        list=[]\n",
    "        for i in lst:\n",
    "            if i not in list:\n",
    "                list.append(i)\n",
    "        return list\n",
    "        \n",
    "s=Solution()\n",
    "print(s.remove_duplicate([1,9,2,8,2,1]))\n",
    "\n"
   ]
  },
  {
   "cell_type": "code",
   "execution_count": null,
   "id": "bb810a19-560c-4cd4-b229-e5b362c30313",
   "metadata": {},
   "outputs": [],
   "source": []
  }
 ],
 "metadata": {
  "kernelspec": {
   "display_name": "Python 3 (ipykernel)",
   "language": "python",
   "name": "python3"
  },
  "language_info": {
   "codemirror_mode": {
    "name": "ipython",
    "version": 3
   },
   "file_extension": ".py",
   "mimetype": "text/x-python",
   "name": "python",
   "nbconvert_exporter": "python",
   "pygments_lexer": "ipython3",
   "version": "3.12.4"
  }
 },
 "nbformat": 4,
 "nbformat_minor": 5
}
