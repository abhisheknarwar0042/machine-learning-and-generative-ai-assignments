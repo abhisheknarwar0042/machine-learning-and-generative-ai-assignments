{
 "cells": [
  {
   "cell_type": "code",
   "execution_count": 6,
   "id": "3a6800c7-c552-4276-908e-27912cb66193",
   "metadata": {},
   "outputs": [
    {
     "name": "stdout",
     "output_type": "stream",
     "text": [
      "[0. 0. 0. 0. 0.]\n"
     ]
    }
   ],
   "source": [
    "#1. Create a function create_zeros_array(n) to return a NumPy array of zeros with n elements\n",
    "\n",
    "import numpy as np\n",
    "\n",
    "def create_zeros_array(n):\n",
    "    return np.zeros(n)\n",
    "\n",
    "print(create_zeros_array(5))\n",
    "\n"
   ]
  },
  {
   "cell_type": "code",
   "execution_count": 8,
   "id": "d23af16f-d5b0-444a-b2ee-1ac00c6162be",
   "metadata": {},
   "outputs": [
    {
     "name": "stdout",
     "output_type": "stream",
     "text": [
      "[[1. 1. 1.]\n",
      " [1. 1. 1.]]\n"
     ]
    }
   ],
   "source": [
    "#. Write a function create_ones_matrix(rows, cols) to create a 2D array filled with ones\n",
    "def create_ones_matrix(rows, cols):\n",
    "    return np.ones((rows, cols))\n",
    "\n",
    "print(create_ones_matrix(2, 3))\n"
   ]
  },
  {
   "cell_type": "code",
   "execution_count": 10,
   "id": "47ae8083-baea-4feb-be3c-e8c972a49dbe",
   "metadata": {},
   "outputs": [
    {
     "name": "stdout",
     "output_type": "stream",
     "text": [
      "[1 3 5 7 9]\n"
     ]
    }
   ],
   "source": [
    "\n",
    "#3. Write a function generate_range_array(start, stop, step) to create a ranged NumPy array\n",
    "\n",
    "\n",
    "def generate_range_array(start, stop, step):\n",
    "    return np.arange(start, stop, step)\n",
    "\n",
    "print(generate_range_array(1, 10, 2))\n"
   ]
  },
  {
   "cell_type": "code",
   "execution_count": 12,
   "id": "60ea29f3-0a7f-4879-98d8-45e084e95bd5",
   "metadata": {},
   "outputs": [
    {
     "name": "stdout",
     "output_type": "stream",
     "text": [
      "[ 1.    3.25  5.5   7.75 10.  ]\n"
     ]
    }
   ],
   "source": [
    "#4. Design a function generate_linear_space(start, stop, num) for equally spaced values.\n",
    "\n",
    "def generate_linear_space(start, stop, num):\n",
    "    return np.linspace(start, stop, num)\n",
    "\n",
    "print(generate_linear_space(1, 10, 5))\n"
   ]
  },
  {
   "cell_type": "code",
   "execution_count": 14,
   "id": "df0782e0-1d39-40fb-ace4-fa10805202e2",
   "metadata": {},
   "outputs": [
    {
     "name": "stdout",
     "output_type": "stream",
     "text": [
      "[[1. 0. 0.]\n",
      " [0. 1. 0.]\n",
      " [0. 0. 1.]]\n"
     ]
    }
   ],
   "source": [
    "#5. Create a function create_identity_matrix(n) using numpy.eye.\n",
    "\n",
    "def create_identity_matrix(n):\n",
    "    return np.eye(n)\n",
    "\n",
    "print(create_identity_matrix(3))\n"
   ]
  },
  {
   "cell_type": "code",
   "execution_count": 16,
   "id": "c1304c41-29a9-4493-bc14-e6384b1e8ecc",
   "metadata": {},
   "outputs": [
    {
     "name": "stdout",
     "output_type": "stream",
     "text": [
      "[1 2 3 4 5]\n"
     ]
    }
   ],
   "source": [
    "#6. Write a function that converts a Python list into a NumPy array\n",
    "\n",
    "def list_to_numpy_array(py_list):\n",
    "    return np.array(py_list)\n",
    "\n",
    "my_list = [1, 2, 3, 4, 5]\n",
    "print(list_to_numpy_array(my_list))\n"
   ]
  },
  {
   "cell_type": "code",
   "execution_count": 18,
   "id": "4489f8a3-58af-423d-899d-de557b2847a1",
   "metadata": {},
   "outputs": [
    {
     "name": "stdout",
     "output_type": "stream",
     "text": [
      "Original Array: [1 2 3 4 5]\n",
      "New View: [1 2 3 4 5]\n"
     ]
    }
   ],
   "source": [
    "#17. Create a NumPy array and use numpy.view() to create a new view with the same data\n",
    "arr = np.array([1, 2, 3, 4, 5])\n",
    "\n",
    "new_view = arr.view()\n",
    "\n",
    "print(\"Original Array:\", arr)\n",
    "print(\"New View:\", new_view)\n",
    "\n"
   ]
  },
  {
   "cell_type": "code",
   "execution_count": null,
   "id": "98643407-d8f5-4bc2-b428-615e05661caa",
   "metadata": {},
   "outputs": [],
   "source": []
  }
 ],
 "metadata": {
  "kernelspec": {
   "display_name": "Python 3 (ipykernel)",
   "language": "python",
   "name": "python3"
  },
  "language_info": {
   "codemirror_mode": {
    "name": "ipython",
    "version": 3
   },
   "file_extension": ".py",
   "mimetype": "text/x-python",
   "name": "python",
   "nbconvert_exporter": "python",
   "pygments_lexer": "ipython3",
   "version": "3.12.4"
  }
 },
 "nbformat": 4,
 "nbformat_minor": 5
}
