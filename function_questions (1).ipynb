{
 "cells": [
  {
   "cell_type": "code",
   "execution_count": 10,
   "id": "1b3d0536-8224-43f8-aaf8-333ae31384c2",
   "metadata": {},
   "outputs": [
    {
     "name": "stdout",
     "output_type": "stream",
     "text": [
      "odd\n"
     ]
    }
   ],
   "source": [
    "#even or odd\n",
    "def check(n):\n",
    "    if n%2==0:\n",
    "        return 'even'\n",
    "    else:\n",
    "        return 'odd'\n",
    "print(check(9))"
   ]
  },
  {
   "cell_type": "code",
   "execution_count": 25,
   "id": "467387fd-b579-4ce7-8d6f-a635221b1c2a",
   "metadata": {},
   "outputs": [
    {
     "name": "stdout",
     "output_type": "stream",
     "text": [
      "[1, 3, 6, 10]\n"
     ]
    }
   ],
   "source": [
    "#cumulative sum\n",
    "\n",
    "#arr=[1,2,3,4]    out=[1,3,6,10]\n",
    "def cumulative_sum(arr):\n",
    "    for i in range(1,len(arr)):\n",
    "        arr[i]=arr[i]+arr[i-1]\n",
    "    return arr\n",
    "arr=[1,2,3,4]\n",
    "print(cumulative_sum(arr))\n",
    "\n",
    "        "
   ]
  },
  {
   "cell_type": "code",
   "execution_count": 79,
   "id": "0e0ba4c6-fa52-426d-b4c5-40074a9c992b",
   "metadata": {},
   "outputs": [
    {
     "name": "stdout",
     "output_type": "stream",
     "text": [
      "24\n"
     ]
    }
   ],
   "source": [
    "#find factorial\n",
    "def fact_n(n):\n",
    "    if n == 0 or n == 1:\n",
    "        return 1\n",
    "    else:\n",
    "        return n * fact_n(n - 1)\n",
    "\n",
    "print(fact_n(4))\n"
   ]
  },
  {
   "cell_type": "code",
   "execution_count": 21,
   "id": "da254cbd-03cf-4642-96cd-45ea1de8ee3d",
   "metadata": {},
   "outputs": [
    {
     "name": "stdout",
     "output_type": "stream",
     "text": [
      "[0, 1, 1, 2, 3, 5, 8, 13]\n"
     ]
    }
   ],
   "source": [
    "#fibonacci series upto nth term\n",
    "\n",
    "#[0,1,1,2,3,5,8,13]\n",
    "def fibonacci(n):\n",
    "    start=[0,1]\n",
    "    for i in range(2,n):\n",
    "        new_term=start[-1]+start[-2]\n",
    "    \n",
    "        start.append(new_term)\n",
    "    return start\n",
    "print(fibonacci(8))\n",
    "\n"
   ]
  },
  {
   "cell_type": "code",
   "execution_count": 23,
   "id": "2956834b-1fc2-4397-909d-f2cf91a4545e",
   "metadata": {},
   "outputs": [
    {
     "name": "stdin",
     "output_type": "stream",
     "text": [
      "Enter a string:  abhishek\n"
     ]
    },
    {
     "name": "stdout",
     "output_type": "stream",
     "text": [
      "It is not a palindrome.\n"
     ]
    }
   ],
   "source": [
    "#string is palindrome or not #\n",
    "def is_palindrome(string):\n",
    "    \n",
    "    string = string.replace(\" \", \"\").lower()\n",
    "    \n",
    "    \n",
    "    return string == string[::-1]\n",
    "\n",
    "text = input(\"Enter a string: \")\n",
    "if is_palindrome(text):\n",
    "    print(\"It is a palindrome.\")\n",
    "else:\n",
    "    print(\"It is not a palindrome.\")\n",
    "\n",
    "    "
   ]
  },
  {
   "cell_type": "code",
   "execution_count": 25,
   "id": "3f677a33-d614-4fe1-9b6d-f05190727400",
   "metadata": {},
   "outputs": [
    {
     "name": "stdout",
     "output_type": "stream",
     "text": [
      "Maximum value: 20\n",
      "Minimum value: 3\n"
     ]
    }
   ],
   "source": [
    "#min max in list\n",
    "\n",
    "\n",
    "\n",
    "def find_max_min(lst):\n",
    "    \"\"\"\n",
    "    This function returns the maximum and minimum elements from a given list.\n",
    "    \n",
    "    Parameters:\n",
    "    lst (list): A list of numerical values.\n",
    "\n",
    "    Returns:\n",
    "    tuple: (maximum value, minimum value) if list is not empty,\n",
    "           otherwise returns a message indicating the list is empty.\n",
    "    \"\"\"\n",
    "    if not lst:\n",
    "        return \"The list is empty.\"\n",
    "\n",
    "    maximum = max(lst)\n",
    "    minimum = min(lst)\n",
    "\n",
    "    return maximum, minimum\n",
    "\n",
    "# Example usage\n",
    "numbers = [12, 5, 8, 20, 3, 17]\n",
    "result = find_max_min(numbers)\n",
    "\n",
    "if isinstance(result, tuple):\n",
    "    print(\"Maximum value:\", result[0])\n",
    "    print(\"Minimum value:\", result[1])\n",
    "else:\n",
    "    print(result)\n"
   ]
  },
  {
   "cell_type": "code",
   "execution_count": 27,
   "id": "5dd6ceb1-a553-4d82-969a-acc24ce46442",
   "metadata": {},
   "outputs": [],
   "source": [
    "#pangram or not\n",
    "import string\n",
    "\n",
    "def is_pangram(s):\n",
    "    s = s.lower()\n",
    "    for ch in string.ascii_lowercase:\n",
    "        if ch not in s:\n",
    "            return False\n",
    "    return True\n"
   ]
  },
  {
   "cell_type": "code",
   "execution_count": 29,
   "id": "281bd500-cbad-452a-8b79-ae611a00868a",
   "metadata": {},
   "outputs": [
    {
     "data": {
      "text/plain": [
       "False"
      ]
     },
     "execution_count": 29,
     "metadata": {},
     "output_type": "execute_result"
    }
   ],
   "source": [
    "is_pangram('abhi')"
   ]
  },
  {
   "cell_type": "code",
   "execution_count": 31,
   "id": "38b4d5f4-ed32-4135-ac21-0b063e120f2e",
   "metadata": {},
   "outputs": [],
   "source": [
    "\n",
    "#prime numbers in range\n",
    "def find_primes(start, end):\n",
    "    primes = []\n",
    "    for num in range(start, end + 1):\n",
    "        if num > 1:\n",
    "            for i in range(2, int(num**0.5) + 1):\n",
    "                if num % i == 0:\n",
    "                    break\n",
    "            else:\n",
    "                primes.append(num)\n",
    "    return primes\n"
   ]
  },
  {
   "cell_type": "code",
   "execution_count": 35,
   "id": "77ae4d8f-07eb-446b-8560-94bfa4192c91",
   "metadata": {},
   "outputs": [
    {
     "name": "stdout",
     "output_type": "stream",
     "text": [
      "[2, 3, 5, 7, 11, 13, 17, 19, 23, 29, 31, 37, 41, 43, 47, 53, 59, 61, 67, 71, 73, 79, 83, 89, 97] "
     ]
    }
   ],
   "source": [
    "print(find_primes(2,100),end=\" \")"
   ]
  },
  {
   "cell_type": "code",
   "execution_count": 37,
   "id": "4242fd3b-a0e3-46a6-900a-c1e5285f644f",
   "metadata": {},
   "outputs": [],
   "source": [
    "#count upper and lowe case letters\n",
    "def count_case(s):\n",
    "    upper = lower = 0\n",
    "    for char in s:\n",
    "        if char.isupper():\n",
    "            upper += 1\n",
    "        elif char.islower():\n",
    "            lower += 1\n",
    "    return upper, lower\n"
   ]
  },
  {
   "cell_type": "code",
   "execution_count": 43,
   "id": "1f6942f0-007a-4aa0-aa5c-84197cac80d7",
   "metadata": {},
   "outputs": [
    {
     "data": {
      "text/plain": [
       "(4, 4)"
      ]
     },
     "execution_count": 43,
     "metadata": {},
     "output_type": "execute_result"
    }
   ],
   "source": [
    "count_case('abhiSHEK')"
   ]
  },
  {
   "cell_type": "code",
   "execution_count": 45,
   "id": "527056d8-588b-4b1d-bebc-90d718bff3e0",
   "metadata": {},
   "outputs": [],
   "source": [
    "#digit sum\n",
    "def sum_of_digits(n):\n",
    "    total = 0\n",
    "    while n > 0:\n",
    "        total += n % 10\n",
    "        n //= 10\n",
    "    return total\n"
   ]
  },
  {
   "cell_type": "code",
   "execution_count": 47,
   "id": "7e875c2f-ba19-4165-b922-3b6b87a8306a",
   "metadata": {},
   "outputs": [
    {
     "data": {
      "text/plain": [
       "3"
      ]
     },
     "execution_count": 47,
     "metadata": {},
     "output_type": "execute_result"
    }
   ],
   "source": [
    "sum_of_digits(111)"
   ]
  },
  {
   "cell_type": "code",
   "execution_count": 49,
   "id": "a636a44a-4ac5-43b2-80ac-b184ce6609bd",
   "metadata": {},
   "outputs": [],
   "source": [
    "#sentence word count\n",
    "def count_words(sentence):\n",
    "    words = sentence.strip().split()\n",
    "    return len(words)\n"
   ]
  },
  {
   "cell_type": "code",
   "execution_count": 59,
   "id": "301a732d-b6db-491f-b6e1-b6c2b2cdfab0",
   "metadata": {},
   "outputs": [
    {
     "data": {
      "text/plain": [
       "2"
      ]
     },
     "execution_count": 59,
     "metadata": {},
     "output_type": "execute_result"
    }
   ],
   "source": [
    "count_words(\" abhishek narwar\")"
   ]
  },
  {
   "cell_type": "code",
   "execution_count": 61,
   "id": "98624c55-584f-40e8-9186-3ee7857eb84e",
   "metadata": {},
   "outputs": [
    {
     "data": {
      "text/plain": [
       "'abhishek'"
      ]
     },
     "execution_count": 61,
     "metadata": {},
     "output_type": "execute_result"
    }
   ],
   "source": [
    "#remove punctuation\n",
    "import string\n",
    "\n",
    "def remove_punctuation(s):\n",
    "    return ''.join(char for char in s if char not in string.punctuation)\n",
    "remove_punctuation('abhishek!')"
   ]
  },
  {
   "cell_type": "code",
   "execution_count": 63,
   "id": "9cff81b9-fba7-4e2b-8b64-7ac73341b06b",
   "metadata": {},
   "outputs": [],
   "source": [
    "#find gcd\n",
    "def find_gcd(a, b):\n",
    "    while b:\n",
    "        a, b = b, a % b\n",
    "    return a\n"
   ]
  },
  {
   "cell_type": "code",
   "execution_count": 65,
   "id": "56283e6b-c5d3-4baf-aed1-4da482529dc0",
   "metadata": {},
   "outputs": [
    {
     "data": {
      "text/plain": [
       "10"
      ]
     },
     "execution_count": 65,
     "metadata": {},
     "output_type": "execute_result"
    }
   ],
   "source": [
    "find_gcd(10,20)"
   ]
  },
  {
   "cell_type": "code",
   "execution_count": 67,
   "id": "d674abb2-ed26-458c-99f1-9bed041b450d",
   "metadata": {},
   "outputs": [
    {
     "data": {
      "text/plain": [
       "[2]"
      ]
     },
     "execution_count": 67,
     "metadata": {},
     "output_type": "execute_result"
    }
   ],
   "source": [
    "#find duplicates\n",
    "def find_duplicates(lst):\n",
    "    result = []\n",
    "    seen = set()\n",
    "    for i in lst:\n",
    "        if i in seen and i not in result:\n",
    "            result.append(i)\n",
    "        seen.add(i)\n",
    "    return result\n",
    "find_duplicates([1,2,2,3])"
   ]
  },
  {
   "cell_type": "code",
   "execution_count": 69,
   "id": "3c5523be-b9f7-41ed-9fb3-baa9ed411764",
   "metadata": {},
   "outputs": [
    {
     "data": {
      "text/plain": [
       "3"
      ]
     },
     "execution_count": 69,
     "metadata": {},
     "output_type": "execute_result"
    }
   ],
   "source": [
    "#largest of three numbers\n",
    "def largest_of_three(a, b, c):\n",
    "    return max(a, b, c)\n",
    "largest_of_three(1,2,3)"
   ]
  },
  {
   "cell_type": "code",
   "execution_count": null,
   "id": "69bb716f-a79b-45f4-92e8-934abe2fc414",
   "metadata": {},
   "outputs": [],
   "source": []
  }
 ],
 "metadata": {
  "kernelspec": {
   "display_name": "Python 3 (ipykernel)",
   "language": "python",
   "name": "python3"
  },
  "language_info": {
   "codemirror_mode": {
    "name": "ipython",
    "version": 3
   },
   "file_extension": ".py",
   "mimetype": "text/x-python",
   "name": "python",
   "nbconvert_exporter": "python",
   "pygments_lexer": "ipython3",
   "version": "3.12.4"
  }
 },
 "nbformat": 4,
 "nbformat_minor": 5
}
