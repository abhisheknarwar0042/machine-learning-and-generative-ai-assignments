{
 "cells": [
  {
   "cell_type": "code",
   "execution_count": 4,
   "id": "97df4484-c930-4a35-b269-5cbce9b5042b",
   "metadata": {},
   "outputs": [
    {
     "name": "stdout",
     "output_type": "stream",
     "text": [
      "Count of 'apple' in each element:\n",
      " [1 0 1 1]\n"
     ]
    }
   ],
   "source": [
    "import numpy as np\n",
    "\n",
    "# 56. Count occurrences of a substring in a string array\n",
    "arr = np.array(['apple', 'banana', 'apple pie', 'pineapple'])\n",
    "substring_count = np.char.count(arr, 'apple')\n",
    "print(\"Count of 'apple' in each element:\\n\", substring_count)\n"
   ]
  },
  {
   "cell_type": "code",
   "execution_count": 10,
   "id": "f0d5ba85-b515-4512-99af-2e862e42bb9e",
   "metadata": {},
   "outputs": [
    {
     "name": "stdout",
     "output_type": "stream",
     "text": [
      "Uppercase characters from each element:\n",
      " ['H' 'WORLD' 'P']\n"
     ]
    }
   ],
   "source": [
    "# 57. Extract uppercase characters from a string array\n",
    "arr2 = np.array(['Hello', 'WORLD', 'Python3'])\n",
    "uppercase_chars = np.array([''.join([ch for ch in word if ch.isupper()]) for word in arr2])\n",
    "print(\"Uppercase characters from each element:\\n\", uppercase_chars)\n"
   ]
  },
  {
   "cell_type": "code",
   "execution_count": 12,
   "id": "9a74a044-3fc4-4bd6-af16-4c01145ff506",
   "metadata": {},
   "outputs": [
    {
     "name": "stdout",
     "output_type": "stream",
     "text": [
      "After replacing 'Python' with 'NumPy':\n",
      " ['I like NumPy' 'NumPy is fun' 'NumPy Programming']\n"
     ]
    }
   ],
   "source": [
    "# 58. Replace substring occurrences with another string in a string array\n",
    "arr3 = np.array(['I like Python', 'Python is fun', 'Python Programming'])\n",
    "replaced_arr = np.char.replace(arr3, 'Python', 'NumPy')\n",
    "print(\"After replacing 'Python' with 'NumPy':\\n\", replaced_arr)"
   ]
  },
  {
   "cell_type": "code",
   "execution_count": 16,
   "id": "2c9a397d-510f-41d6-a30e-88e7c2d31269",
   "metadata": {},
   "outputs": [
    {
     "name": "stdout",
     "output_type": "stream",
     "text": [
      "Element-wise Concatenation:\n",
      " ['DataScience' 'NumPy' 'Python']\n"
     ]
    }
   ],
   "source": [
    "# 59. Concatenate strings in a NumPy array element-wise\n",
    "arr4 = np.array(['Data', 'Num', 'Py'])\n",
    "arr5 = np.array(['Science', 'Py', 'thon'])\n",
    "concatenated = np.char.add(arr4, arr5)\n",
    "print(\"Element-wise Concatenation:\\n\", concatenated)"
   ]
  },
  {
   "cell_type": "code",
   "execution_count": 18,
   "id": "c946837d-fb00-481b-bf6e-8b3ea455deb8",
   "metadata": {},
   "outputs": [
    {
     "name": "stdout",
     "output_type": "stream",
     "text": [
      " Length of the longest string:\n",
      " 10\n"
     ]
    }
   ],
   "source": [
    "# 60. Find the length of the longest string in a string array\n",
    "arr6 = np.array(['apple', 'banana', 'cherry', 'watermelon'])\n",
    "lengths = np.char.str_len(arr6)\n",
    "max_length = np.max(lengths)\n",
    "print(\" Length of the longest string:\\n\", max_length)"
   ]
  },
  {
   "cell_type": "code",
   "execution_count": 20,
   "id": "a6915359-c5a4-4a2a-a91c-35726b812d4d",
   "metadata": {},
   "outputs": [
    {
     "name": "stdout",
     "output_type": "stream",
     "text": [
      "Mean: 483.43\n",
      "Median: 445.5\n",
      "Variance: 89451.70509999999\n",
      "Standard Deviation: 299.0847791178949\n"
     ]
    }
   ],
   "source": [
    "# 61. Generate 100 random integers (1–1000) and compute mean, median, variance, and std deviation\n",
    "arr1 = np.random.randint(1, 1001, 100)\n",
    "mean_val = np.mean(arr1)\n",
    "median_val = np.median(arr1)\n",
    "variance_val = np.var(arr1)\n",
    "std_dev_val = np.std(arr1)\n",
    "\n",
    "print(\"Mean:\", mean_val)\n",
    "print(\"Median:\", median_val)\n",
    "print(\"Variance:\", variance_val)\n",
    "print(\"Standard Deviation:\", std_dev_val)"
   ]
  },
  {
   "cell_type": "code",
   "execution_count": 22,
   "id": "8cea6303-2aef-45ec-967f-b422ce5daafd",
   "metadata": {},
   "outputs": [
    {
     "name": "stdout",
     "output_type": "stream",
     "text": [
      "25th Percentile: 31.75\n",
      "75th Percentile: 75.0\n"
     ]
    }
   ],
   "source": [
    "# 62. Generate 50 random numbers (1–100) and compute the 25th and 75th percentiles\n",
    "arr2 = np.random.randint(1, 101, 50)\n",
    "percentile_25 = np.percentile(arr2, 25)\n",
    "percentile_75 = np.percentile(arr2, 75)\n",
    "\n",
    "print(\"25th Percentile:\", percentile_25)\n",
    "print(\"75th Percentile:\", percentile_75)\n"
   ]
  },
  {
   "cell_type": "code",
   "execution_count": 24,
   "id": "b9c096cc-73ef-48c8-ab1f-448ad87677e8",
   "metadata": {},
   "outputs": [
    {
     "name": "stdout",
     "output_type": "stream",
     "text": [
      "Correlation Coefficient Matrix:\n",
      " [[ 1.         -0.17954937]\n",
      " [-0.17954937  1.        ]]\n"
     ]
    }
   ],
   "source": [
    "# 63. Compute correlation coefficient between two arrays using np.corrcoef\n",
    "x = np.random.randint(1, 100, 10)\n",
    "y = np.random.randint(1, 100, 10)\n",
    "\n",
    "correlation_matrix = np.corrcoef(x, y)\n",
    "print(\"Correlation Coefficient Matrix:\\n\", correlation_matrix)\n"
   ]
  },
  {
   "cell_type": "code",
   "execution_count": 26,
   "id": "553449ce-03ad-459b-8d53-9d40fe35c75a",
   "metadata": {},
   "outputs": [
    {
     "name": "stdout",
     "output_type": "stream",
     "text": [
      " Matrix Multiplication Result:\n",
      " [[19 22]\n",
      " [43 50]]\n"
     ]
    }
   ],
   "source": [
    "# 64. Perform matrix multiplication using np.dot\n",
    "mat1 = np.array([[1, 2],\n",
    "                 [3, 4]])\n",
    "\n",
    "mat2 = np.array([[5, 6],\n",
    "                 [7, 8]])\n",
    "\n",
    "matrix_multiplication = np.dot(mat1, mat2)\n",
    "print(\" Matrix Multiplication Result:\\n\", matrix_multiplication)\n"
   ]
  },
  {
   "cell_type": "code",
   "execution_count": 30,
   "id": "aae14850-6fdd-4bd6-86e5-7d8fabd8c1d5",
   "metadata": {},
   "outputs": [
    {
     "name": "stdout",
     "output_type": "stream",
     "text": [
      "10th Percentile: 7.0\n",
      "50th Percentile (Median): 47.5\n",
      "90th Percentile: 84.2\n",
      "Quartiles (Q1, Q2, Q3): [25.5 47.5 71.5]\n"
     ]
    }
   ],
   "source": [
    " #65. Compute the 10th, 50th, and 90th percentiles and quartiles for an array of 50 integers\n",
    "arr3 = np.random.randint(1, 101, 50)\n",
    "\n",
    "percentile_10 = np.percentile(arr3, 10)\n",
    "percentile_50 = np.percentile(arr3, 50)  # Median\n",
    "percentile_90 = np.percentile(arr3, 90)\n",
    "\n",
    "quartiles = np.percentile(arr3, [25, 50, 75])  # Q1, Q2, Q3\n",
    "\n",
    "print(\"10th Percentile:\", percentile_10)\n",
    "print(\"50th Percentile (Median):\", percentile_50)\n",
    "print(\"90th Percentile:\", percentile_90)\n",
    "print(\"Quartiles (Q1, Q2, Q3):\", quartiles)"
   ]
  },
  {
   "cell_type": "code",
   "execution_count": null,
   "id": "97065f8a-e160-4e25-890f-43231e2a405b",
   "metadata": {},
   "outputs": [],
   "source": []
  }
 ],
 "metadata": {
  "kernelspec": {
   "display_name": "Python 3 (ipykernel)",
   "language": "python",
   "name": "python3"
  },
  "language_info": {
   "codemirror_mode": {
    "name": "ipython",
    "version": 3
   },
   "file_extension": ".py",
   "mimetype": "text/x-python",
   "name": "python",
   "nbconvert_exporter": "python",
   "pygments_lexer": "ipython3",
   "version": "3.12.4"
  }
 },
 "nbformat": 4,
 "nbformat_minor": 5
}
