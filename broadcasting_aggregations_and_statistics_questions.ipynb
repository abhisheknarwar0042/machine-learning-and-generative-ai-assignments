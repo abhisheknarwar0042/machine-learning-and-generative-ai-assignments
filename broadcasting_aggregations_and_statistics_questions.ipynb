{
 "cells": [
  {
   "cell_type": "code",
   "execution_count": 4,
   "id": "c7544210-b8c2-4454-aa74-e3571a475ab7",
   "metadata": {},
   "outputs": [
    {
     "name": "stdout",
     "output_type": "stream",
     "text": [
      "6 7 8 9 10 11 "
     ]
    }
   ],
   "source": [
    "#36. Add scalar 5 to every element of an array using broadcasting.\n",
    "\n",
    "import numpy as np\n",
    "arr=np.array([1,2,3,4,5,6])\n",
    "for i in arr:\n",
    "    print(i+5,end=\" \")\n"
   ]
  },
  {
   "cell_type": "code",
   "execution_count": 6,
   "id": "8a608159-00ad-46b7-a1eb-76d3f4d34f19",
   "metadata": {},
   "outputs": [
    {
     "name": "stdout",
     "output_type": "stream",
     "text": [
      "[ 6  7  8  9 10 11]\n"
     ]
    }
   ],
   "source": [
    "#using broadcasting\n",
    "import numpy as np\n",
    "arr = np.array([1, 2, 3, 4, 5, 6])\n",
    "result = arr + 5\n",
    "print(result)\n"
   ]
  },
  {
   "cell_type": "code",
   "execution_count": 8,
   "id": "66d6eae1-85d8-4eea-8fe1-7f1aff216a15",
   "metadata": {},
   "outputs": [
    {
     "name": "stdout",
     "output_type": "stream",
     "text": [
      "[[ 2  4  6  8]\n",
      " [15 18 21 24]\n",
      " [36 40 44 48]]\n"
     ]
    }
   ],
   "source": [
    "#37. Multiply each row of a (3, 4) array by corresponding elements of a (1, 3) array.\n",
    "import numpy as np\n",
    "\n",
    "A = np.array([[1, 2, 3, 4],\n",
    "              [5, 6, 7, 8],\n",
    "              [9,10,11,12]])\n",
    "\n",
    "B = np.array([[2, 3, 4]])\n",
    "\n",
    "# Transpose B to make it (3,1) so it matches rows\n",
    "result = A * B.T\n",
    "\n",
    "print(result)\n",
    "\n",
    "\n",
    "\n"
   ]
  },
  {
   "cell_type": "code",
   "execution_count": 12,
   "id": "14323285-bb2f-4cb4-9c1a-7fad0e6ff9b2",
   "metadata": {},
   "outputs": [
    {
     "name": "stdout",
     "output_type": "stream",
     "text": [
      "[[11 22 33]\n",
      " [14 25 36]\n",
      " [17 28 39]\n",
      " [20 31 42]]\n"
     ]
    }
   ],
   "source": [
    "#38. Add a (1, 4) array to every row of a (4, 3) array using broadcasting.\n",
    "import numpy as np\n",
    "\n",
    "A = np.array([[1, 2, 3],\n",
    "              [4, 5, 6],\n",
    "              [7, 8, 9],\n",
    "              [10,11,12]])\n",
    "\n",
    "B = np.array([[10, 20, 30]])\n",
    "\n",
    "result = A + B\n",
    "\n",
    "print(result)\n",
    "\n"
   ]
  },
  {
   "cell_type": "code",
   "execution_count": 16,
   "id": "2fa8aa6c-2ed7-4051-be19-4ce4dccedb1c",
   "metadata": {},
   "outputs": [
    {
     "name": "stdout",
     "output_type": "stream",
     "text": [
      "[[11 21 31]\n",
      " [12 22 32]\n",
      " [13 23 33]]\n"
     ]
    }
   ],
   "source": [
    "import numpy as np\n",
    "\n",
    "arr1 = np.array([[1],\n",
    "                 [2],\n",
    "                 [3]])  # Shape (3,1)\n",
    "\n",
    "arr2 = np.array([[10, 20, 30]])  # Shape (1,3)\n",
    "\n",
    "res = arr1 + arr2\n",
    "print(res)\n"
   ]
  },
  {
   "cell_type": "code",
   "execution_count": 22,
   "id": "9dc06183-c585-45e2-95dd-997169feb86e",
   "metadata": {},
   "outputs": [
    {
     "name": "stdout",
     "output_type": "stream",
     "text": [
      "[[ 1  4  9]\n",
      " [16 25 36]]\n"
     ]
    }
   ],
   "source": [
    "#40. Handle shape incompatibility during multiplication between (2, 3) and (2, 2) arrays\n",
    "\n",
    "import numpy as np\n",
    "\n",
    "arr1 = np.array([[1,2,3],\n",
    "                 [4,5,6]])    \n",
    "\n",
    "\n",
    "\n",
    "\n",
    "arr2 = np.array([[1,2,3],\n",
    "                 [4,5,6]])    \n",
    "\n",
    "res = arr1 * arr2\n",
    "print(res)\n",
    "\n"
   ]
  },
  {
   "cell_type": "code",
   "execution_count": 32,
   "id": "3b6d104c-0aa9-4ad5-bb5a-05bff9845203",
   "metadata": {},
   "outputs": [
    {
     "name": "stdout",
     "output_type": "stream",
     "text": [
      "Column-wise mean: [4. 5. 6.]\n"
     ]
    }
   ],
   "source": [
    "#column wise mean of 2d array\n",
    "arr = np.array([[1, 2, 3],\n",
    "                [4, 5, 6],\n",
    "                [7, 8, 9]])\n",
    "\n",
    "column_mean = np.mean(arr, axis=0)\n",
    "print(\"Column-wise mean:\", column_mean)\n"
   ]
  },
  {
   "cell_type": "code",
   "execution_count": 34,
   "id": "88535463-2c8d-4fa4-8c0e-ae5d4ffaf813",
   "metadata": {},
   "outputs": [
    {
     "name": "stdout",
     "output_type": "stream",
     "text": [
      "Row-wise maximum: [3 6 9]\n"
     ]
    }
   ],
   "source": [
    "#max vale in each row\n",
    "row_max = np.max(arr, axis=1)\n",
    "print(\"Row-wise maximum:\", row_max)\n"
   ]
  },
  {
   "cell_type": "code",
   "execution_count": 36,
   "id": "c949495a-94c9-4418-974d-6b10770d9215",
   "metadata": {},
   "outputs": [
    {
     "name": "stdout",
     "output_type": "stream",
     "text": [
      "Indices of column-wise max: [2 2 2]\n"
     ]
    }
   ],
   "source": [
    "#indices of max value in each column\n",
    "\n",
    "col_max_indices = np.argmax(arr, axis=0)\n",
    "print(\"Indices of column-wise max:\", col_max_indices)\n",
    "\n"
   ]
  },
  {
   "cell_type": "code",
   "execution_count": 38,
   "id": "0e7e618a-5488-4643-82cf-147c9d4488a3",
   "metadata": {},
   "outputs": [
    {
     "name": "stdout",
     "output_type": "stream",
     "text": [
      "Moving sum along rows:\n",
      " [[ 3  5]\n",
      " [ 9 11]\n",
      " [15 17]]\n"
     ]
    }
   ],
   "source": [
    "#custom function to move sum along row\n",
    "\n",
    "def moving_sum(row):\n",
    "    return np.convolve(row, np.ones(2, dtype=int), 'valid')\n",
    "\n",
    "result = np.apply_along_axis(moving_sum, axis=1, arr=arr)\n",
    "print(\"Moving sum along rows:\\n\", result)\n"
   ]
  },
  {
   "cell_type": "code",
   "execution_count": 42,
   "id": "26ccd7bd-fc68-4ce6-a7df-6df421704796",
   "metadata": {},
   "outputs": [
    {
     "name": "stdout",
     "output_type": "stream",
     "text": [
      "Are all elements even column-wise?: [False False False]\n"
     ]
    }
   ],
   "source": [
    "#45. Check if all elements in each column are even\n",
    "\n",
    "all_even = np.all(arr % 2 == 0, axis=0)\n",
    "print(\"Are all elements even column-wise?:\", all_even)\n"
   ]
  },
  {
   "cell_type": "code",
   "execution_count": null,
   "id": "04dda8f0-cd25-4632-aeb8-9640523cd021",
   "metadata": {},
   "outputs": [],
   "source": []
  }
 ],
 "metadata": {
  "kernelspec": {
   "display_name": "Python 3 (ipykernel)",
   "language": "python",
   "name": "python3"
  },
  "language_info": {
   "codemirror_mode": {
    "name": "ipython",
    "version": 3
   },
   "file_extension": ".py",
   "mimetype": "text/x-python",
   "name": "python",
   "nbconvert_exporter": "python",
   "pygments_lexer": "ipython3",
   "version": "3.12.4"
  }
 },
 "nbformat": 4,
 "nbformat_minor": 5
}
