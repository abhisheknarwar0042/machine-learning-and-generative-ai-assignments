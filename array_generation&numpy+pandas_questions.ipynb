{
 "cells": [
  {
   "cell_type": "code",
   "execution_count": 2,
   "id": "c8a7f0a0-c63b-4d2d-954b-ee10b4eff812",
   "metadata": {},
   "outputs": [
    {
     "name": "stdout",
     "output_type": "stream",
     "text": [
      "[1 3 5 7 9]\n"
     ]
    }
   ],
   "source": [
    "#21. Write a function to generate an array of integers within a specified range (inclusive) with a step\n",
    "import numpy as np\n",
    "\n",
    "def generate_array(start, stop, step):\n",
    "    return np.arange(start, stop + 1, step)\n",
    "\n",
    "arr = generate_array(1, 10, 2)\n",
    "print(arr)\n",
    "\n"
   ]
  },
  {
   "cell_type": "code",
   "execution_count": 10,
   "id": "34fc1f8f-9f6c-46c3-9e84-29e4a00b33a6",
   "metadata": {},
   "outputs": [
    {
     "name": "stdout",
     "output_type": "stream",
     "text": [
      "[0.         0.11111111 0.22222222 0.33333333 0.44444444 0.55555556\n",
      " 0.66666667 0.77777778 0.88888889 1.        ]\n"
     ]
    }
   ],
   "source": [
    "#22. Generate 10 equally spaced values between 0 and 1 using NumPy\n",
    "\n",
    "\n",
    "arr = np.linspace(0, 1, 10)\n",
    "print(arr)\n"
   ]
  },
  {
   "cell_type": "code",
   "execution_count": 8,
   "id": "927880b4-3acc-4c25-932e-43371e8d73ee",
   "metadata": {},
   "outputs": [
    {
     "name": "stdout",
     "output_type": "stream",
     "text": [
      "[   1.            5.62341325   31.6227766   177.827941   1000.        ]\n"
     ]
    }
   ],
   "source": [
    "#23. Create 5 logarithmically spaced values between 1 and 1000.\n",
    "\n",
    "\n",
    "arr = np.logspace(0, 3, 5)   # logspace(start_exp, end_exp, num_points)\n",
    "print(arr)\n",
    "\n"
   ]
  },
  {
   "cell_type": "code",
   "execution_count": 14,
   "id": "161af22b-6823-49b2-88f4-027c52d96f19",
   "metadata": {},
   "outputs": [
    {
     "name": "stdout",
     "output_type": "stream",
     "text": [
      "    A   B   C\n",
      "0  13  89  46\n",
      "1  76  16  61\n",
      "2  74  38  46\n",
      "3  55  29  99\n",
      "4  90  38  18\n"
     ]
    }
   ],
   "source": [
    "#24. Create a Pandas DataFrame from a NumPy array with 5 rows and 3 columns of random integers (1-100).\n",
    "\n",
    "import numpy as np\n",
    "import pandas as pd\n",
    "\n",
    "data = np.random.randint(1, 101, size=(5, 3))\n",
    "df = pd.DataFrame(data, columns=['A', 'B', 'C'])\n",
    "print(df)\n"
   ]
  },
  {
   "cell_type": "code",
   "execution_count": 16,
   "id": "34002caf-01b5-4060-8545-b4e56c92799f",
   "metadata": {},
   "outputs": [
    {
     "name": "stdout",
     "output_type": "stream",
     "text": [
      "   A  B\n",
      "0  5 -2\n",
      "1  0  6\n",
      "2  7 -8\n",
      "3  0  3\n",
      "4  4 -5\n"
     ]
    }
   ],
   "source": [
    "#25. Write a function to replace all negative values in a specific column with zeros using NumPy.\n",
    "import numpy as np\n",
    "import pandas as pd\n",
    "\n",
    "\n",
    "data = {'A': [5, -3, 7, -1, 4], 'B': [-2, 6, -8, 3, -5]}\n",
    "df = pd.DataFrame(data)\n",
    "\n",
    "def replace_negatives(df, column_name):\n",
    "    df[column_name] = np.where(df[column_name] < 0, 0, df[column_name])\n",
    "    return df\n",
    "\n",
    "\n",
    "df = replace_negatives(df, 'A')\n",
    "print(df)\n"
   ]
  },
  {
   "cell_type": "code",
   "execution_count": null,
   "id": "dc292595-06fa-4d4c-90e8-d70c752947d8",
   "metadata": {},
   "outputs": [],
   "source": []
  }
 ],
 "metadata": {
  "kernelspec": {
   "display_name": "Python 3 (ipykernel)",
   "language": "python",
   "name": "python3"
  },
  "language_info": {
   "codemirror_mode": {
    "name": "ipython",
    "version": 3
   },
   "file_extension": ".py",
   "mimetype": "text/x-python",
   "name": "python",
   "nbconvert_exporter": "python",
   "pygments_lexer": "ipython3",
   "version": "3.12.4"
  }
 },
 "nbformat": 4,
 "nbformat_minor": 5
}
