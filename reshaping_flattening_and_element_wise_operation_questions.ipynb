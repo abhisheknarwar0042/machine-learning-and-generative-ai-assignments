{
 "cells": [
  {
   "cell_type": "code",
   "execution_count": 4,
   "id": "c4c00834-ed0a-49aa-9ec3-53e678c6dee9",
   "metadata": {},
   "outputs": [
    {
     "name": "stdout",
     "output_type": "stream",
     "text": [
      "46. Reshaped Array:\n",
      " [[1 2 3]\n",
      " [4 5 6]]\n"
     ]
    }
   ],
   "source": [
    "## 46. Reshape a given array into dimensions m x n\n",
    "import numpy as np\n",
    "arr = np.array([1, 2, 3, 4, 5, 6])\n",
    "reshaped_arr = arr.reshape(2, 3)  # Reshaping into 2x3\n",
    "print(\"46. Reshaped Array:\\n\", reshaped_arr)"
   ]
  },
  {
   "cell_type": "code",
   "execution_count": 6,
   "id": "a1b1829a-c5b9-4b60-a17f-ab2652ce8e17",
   "metadata": {},
   "outputs": [
    {
     "name": "stdout",
     "output_type": "stream",
     "text": [
      "47. Flattened Array:\n",
      " [1 2 3 4 5 6]\n"
     ]
    }
   ],
   "source": [
    "# 47. Return a flattened version of a given matrix\n",
    "arr2 = np.array([[1, 2, 3],\n",
    "                 [4, 5, 6]])\n",
    "flattened_arr = arr2.flatten()\n",
    "print(\"47. Flattened Array:\\n\", flattened_arr)\n"
   ]
  },
  {
   "cell_type": "code",
   "execution_count": 8,
   "id": "06aac1bf-d3ef-48f4-9465-32c37556b29c",
   "metadata": {},
   "outputs": [
    {
     "name": "stdout",
     "output_type": "stream",
     "text": [
      " Concatenated along axis 0 (rows):\n",
      " [[1 2]\n",
      " [3 4]\n",
      " [5 6]\n",
      " [7 8]]\n",
      "Concatenated along axis 1 (columns):\n",
      " [[1 2 5 6]\n",
      " [3 4 7 8]]\n"
     ]
    }
   ],
   "source": [
    "# 48. Concatenate two arrays along a specified axis\n",
    "arr3 = np.array([[1, 2],\n",
    "                 [3, 4]])\n",
    "arr4 = np.array([[5, 6],\n",
    "                 [7, 8]])\n",
    "\n",
    "\n",
    "concat_axis0 = np.concatenate((arr3, arr4), axis=0)\n",
    "print(\" Concatenated along axis 0 (rows):\\n\", concat_axis0)\n",
    "\n",
    "\n",
    "concat_axis1 = np.concatenate((arr3, arr4), axis=1)\n",
    "print(\"Concatenated along axis 1 (columns):\\n\", concat_axis1)"
   ]
  },
  {
   "cell_type": "code",
   "execution_count": 10,
   "id": "3b3a74c5-2c21-4148-a52b-bbf1b998a47f",
   "metadata": {},
   "outputs": [
    {
     "name": "stdout",
     "output_type": "stream",
     "text": [
      " Horizontal Split:\n",
      "[[1 2]\n",
      " [5 6]]\n",
      "[[3 4]\n",
      " [7 8]]\n",
      "49. Vertical Split:\n",
      "[[1 2 3 4]]\n",
      "[[5 6 7 8]]\n"
     ]
    }
   ],
   "source": [
    "# 49. Split an array into sub-arrays along a specified axis\n",
    "arr5 = np.array([[1, 2, 3, 4],\n",
    "                 [5, 6, 7, 8]])\n",
    "\n",
    "# Horizontal split (split columns)\n",
    "hsplit_arr = np.hsplit(arr5, 2)\n",
    "print(\" Horizontal Split:\")\n",
    "for part in hsplit_arr:\n",
    "    print(part)\n",
    "\n",
    "# Vertical split (split rows)\n",
    "vsplit_arr = np.vsplit(arr5, 2)\n",
    "print(\"Vertical Split:\")\n",
    "for part in vsplit_arr:\n",
    "    print(part)"
   ]
  },
  {
   "cell_type": "code",
   "execution_count": 12,
   "id": "8961897e-c4dc-484b-9240-413fcdf36d17",
   "metadata": {},
   "outputs": [
    {
     "name": "stdout",
     "output_type": "stream",
     "text": [
      "50. After Insert at index 2:\n",
      " [ 1  2 99  3  4  5]\n",
      "50. After Delete at index 3:\n",
      " [1 2 3 5]\n"
     ]
    }
   ],
   "source": [
    "# 50. Insert and delete elements at specified indices from an array\n",
    "arr6 = np.array([1, 2, 3, 4, 5])\n",
    "\n",
    "# Insert 99 at index 2\n",
    "arr_insert = np.insert(arr6, 2, 99)\n",
    "print(\"50. After Insert at index 2:\\n\", arr_insert)\n",
    "\n",
    "# Delete element at index 3\n",
    "arr_delete = np.delete(arr6, 3)\n",
    "print(\"50. After Delete at index 3:\\n\", arr_delete)"
   ]
  },
  {
   "cell_type": "code",
   "execution_count": 22,
   "id": "e38caba1-1ceb-4bd5-8531-bf3de30362f9",
   "metadata": {},
   "outputs": [
    {
     "name": "stdout",
     "output_type": "stream",
     "text": [
      " Element-wise Addition:\n",
      " [5 7 9]\n"
     ]
    }
   ],
   "source": [
    "import numpy as np\n",
    "\n",
    "# 51. Perform element-wise addition between two arrays\n",
    "arr1 = np.array([1, 2, 3])\n",
    "arr2 = np.array([4, 5, 6])\n",
    "\n",
    "add_result = arr1 + arr2\n",
    "print(\" Element-wise Addition:\\n\", add_result)\n",
    "\n"
   ]
  },
  {
   "cell_type": "code",
   "execution_count": 18,
   "id": "334e9888-0b54-4827-a830-85dff648d955",
   "metadata": {},
   "outputs": [
    {
     "name": "stdout",
     "output_type": "stream",
     "text": [
      "Element-wise Subtraction (arr1 - arr2):\n",
      " [-3 -3 -3]\n"
     ]
    }
   ],
   "source": [
    "# 52. Perform element-wise subtraction: subtract arr2 from arr1\n",
    "sub_result = arr1 - arr2\n",
    "print(\"Element-wise Subtraction (arr1 - arr2):\\n\", sub_result)\n"
   ]
  },
  {
   "cell_type": "code",
   "execution_count": 20,
   "id": "6e958754-a5c5-4146-b672-892ea02eb913",
   "metadata": {},
   "outputs": [
    {
     "name": "stdout",
     "output_type": "stream",
     "text": [
      "Element-wise Multiplication:\n",
      " [ 4 10 18]\n"
     ]
    }
   ],
   "source": [
    "## 53. Perform element-wise multiplication\n",
    "mul_result = arr1 * arr2\n",
    "print(\"Element-wise Multiplication:\\n\", mul_result)"
   ]
  },
  {
   "cell_type": "code",
   "execution_count": 28,
   "id": "a3467dbf-53fb-4a7b-bc58-f333a4b0d831",
   "metadata": {},
   "outputs": [
    {
     "name": "stdout",
     "output_type": "stream",
     "text": [
      "Element-wise Division (arr1 / arr2):\n",
      " [0.25 0.4  0.5 ]\n"
     ]
    }
   ],
   "source": [
    "# 54. Divide elements of arr1 by arr2 element-wise\n",
    "div_result = arr1 / arr2\n",
    "print(\"Element-wise Division (arr1 / arr2):\\n\", div_result)"
   ]
  },
  {
   "cell_type": "code",
   "execution_count": 30,
   "id": "085574cc-cbcb-4e82-9730-19c173e2773c",
   "metadata": {},
   "outputs": [
    {
     "name": "stdout",
     "output_type": "stream",
     "text": [
      "Element-wise Exponentiation (arr1 ** arr2):\n",
      " [  1  32 729]\n"
     ]
    }
   ],
   "source": [
    "# 55. Perform element-wise exponentiation: arr1 ** arr2\n",
    "exp_result = arr1 ** arr2\n",
    "print(\"Element-wise Exponentiation (arr1 ** arr2):\\n\", exp_result)"
   ]
  },
  {
   "cell_type": "code",
   "execution_count": null,
   "id": "5fc268f0-1b61-44f0-8534-e5c79ba1d925",
   "metadata": {},
   "outputs": [],
   "source": []
  }
 ],
 "metadata": {
  "kernelspec": {
   "display_name": "Python 3 (ipykernel)",
   "language": "python",
   "name": "python3"
  },
  "language_info": {
   "codemirror_mode": {
    "name": "ipython",
    "version": 3
   },
   "file_extension": ".py",
   "mimetype": "text/x-python",
   "name": "python",
   "nbconvert_exporter": "python",
   "pygments_lexer": "ipython3",
   "version": "3.12.4"
  }
 },
 "nbformat": 4,
 "nbformat_minor": 5
}
