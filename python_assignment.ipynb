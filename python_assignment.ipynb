{
 "cells": [
  {
   "cell_type": "code",
   "execution_count": null,
   "id": "399c8866-506f-4f3d-a123-4865cf24beb6",
   "metadata": {},
   "outputs": [],
   "source": [
    "#Section A: Data Types & Control Flow (Q1–Q15)                                     "
   ]
  },
  {
   "cell_type": "code",
   "execution_count": 20,
   "id": "a3abe99c-4d39-4aab-97e4-d5017fcfb5d7",
   "metadata": {},
   "outputs": [],
   "source": [
    "#. Write a Python program to find the second largest number in a list without using the sort() method.\n",
    "#lst=[1,3,6,9,2]    #6\n",
    "import heapq\n",
    "class Solution:\n",
    "    def nth_largest(self,lst):\n",
    "        min_heap=[]\n",
    "        for num in lst:\n",
    "            heapq.heappush(min_heap,num)\n",
    "            if len(min_heap)>2:\n",
    "                heapq.heappop(min_heap)\n",
    "        return min_heap[0]\n",
    "\n",
    "        \n"
   ]
  },
  {
   "cell_type": "code",
   "execution_count": 22,
   "id": "3f035684-0b04-46cf-a378-afab153081d2",
   "metadata": {},
   "outputs": [
    {
     "data": {
      "text/plain": [
       "6"
      ]
     },
     "execution_count": 22,
     "metadata": {},
     "output_type": "execute_result"
    }
   ],
   "source": [
    "\n",
    "s=Solution()\n",
    "s.nth_largest([1,3,6,9,2])\n"
   ]
  },
  {
   "cell_type": "code",
   "execution_count": null,
   "id": "8552ac24-a72d-4fab-be9d-0aa4ce673499",
   "metadata": {},
   "outputs": [],
   "source": []
  }
 ],
 "metadata": {
  "kernelspec": {
   "display_name": "Python 3 (ipykernel)",
   "language": "python",
   "name": "python3"
  },
  "language_info": {
   "codemirror_mode": {
    "name": "ipython",
    "version": 3
   },
   "file_extension": ".py",
   "mimetype": "text/x-python",
   "name": "python",
   "nbconvert_exporter": "python",
   "pygments_lexer": "ipython3",
   "version": "3.12.4"
  }
 },
 "nbformat": 4,
 "nbformat_minor": 5
}
