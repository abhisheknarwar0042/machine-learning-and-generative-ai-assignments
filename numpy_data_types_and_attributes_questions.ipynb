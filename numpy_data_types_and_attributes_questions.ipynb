{
 "cells": [
  {
   "cell_type": "code",
   "execution_count": 4,
   "id": "55189917-1f0c-445b-adc1-d3b7f7eaa78a",
   "metadata": {},
   "outputs": [],
   "source": [
    "import numpy as np"
   ]
  },
  {
   "cell_type": "code",
   "execution_count": 54,
   "id": "da6a84ad-f1e7-4664-a26e-e64b68ecc7e4",
   "metadata": {},
   "outputs": [
    {
     "name": "stdout",
     "output_type": "stream",
     "text": [
      "[0 1 2 3 4 5]\n"
     ]
    }
   ],
   "source": [
    "#. Create a NumPy array arr of integers from 0 to 5 and print its data type\n",
    "arr=np.array([0,1,2,3,4,5])\n",
    "print(arr)\n"
   ]
  },
  {
   "cell_type": "code",
   "execution_count": 56,
   "id": "0f8aacbb-0e39-4667-9ddf-66ecd588805e",
   "metadata": {},
   "outputs": [
    {
     "name": "stdout",
     "output_type": "stream",
     "text": [
      "int32\n"
     ]
    }
   ],
   "source": [
    "print(arr.dtype)\n"
   ]
  },
  {
   "cell_type": "code",
   "execution_count": 34,
   "id": "76bf2c12-735b-4aa6-9903-b67e6b976641",
   "metadata": {},
   "outputs": [
    {
     "name": "stdout",
     "output_type": "stream",
     "text": [
      "False\n",
      "True\n"
     ]
    }
   ],
   "source": [
    "#2. Given a NumPy array arr, check if its data type is float64\n",
    "print(arr.dtype==np.float64)\n",
    "print(arr.dtype==np.int32)\n"
   ]
  },
  {
   "cell_type": "code",
   "execution_count": 52,
   "id": "a35476cf-fc0c-4d2a-9931-8a27b4fae956",
   "metadata": {},
   "outputs": [
    {
     "name": "stdout",
     "output_type": "stream",
     "text": [
      "[1.+2.j 2.+3.j 3.+4.j]\n",
      "complex128\n"
     ]
    }
   ],
   "source": [
    "#.3 Create a NumPy array arr with a data type of complex128 containing three complex numbers\n",
    "arr=np.array([1+2j,2+3j,3+4j],dtype=np.complex128)\n",
    "print(arr)\n",
    "print(arr.dtype)\n"
   ]
  },
  {
   "cell_type": "code",
   "execution_count": 62,
   "id": "bdad4715-e9cb-45c2-88f8-32c42b9611c5",
   "metadata": {},
   "outputs": [
    {
     "name": "stdout",
     "output_type": "stream",
     "text": [
      "[1. 2. 3. 4. 5.]\n",
      "float32\n"
     ]
    }
   ],
   "source": [
    "#. Convert an existing NumPy array arr of integers to float32 data type\n",
    "\n",
    "\n",
    "\n",
    "arr = np.array([1, 2, 3, 4, 5])\n",
    "arr = arr.astype(np.float32)\n",
    "\n",
    "print(arr)\n",
    "print(arr.dtype)\n"
   ]
  },
  {
   "cell_type": "code",
   "execution_count": 70,
   "id": "6dd2e58e-8963-4660-911a-953b7ce431ca",
   "metadata": {},
   "outputs": [
    {
     "name": "stdout",
     "output_type": "stream",
     "text": [
      "float32\n"
     ]
    }
   ],
   "source": [
    "#. Given a NumPy array arr with float64 data type, convert it to float32 to reduce decimal precision\n",
    "arr=np.array([1,2,3,4,5], dtype=np.float64)\n",
    "print((arr.astype(np.float32)).dtype)\n",
    "\n"
   ]
  },
  {
   "cell_type": "code",
   "execution_count": 76,
   "id": "45e917e7-bb36-47ac-aec0-d9130e9acf8a",
   "metadata": {},
   "outputs": [
    {
     "name": "stdout",
     "output_type": "stream",
     "text": [
      "((5,), 5, dtype('int32'))\n"
     ]
    }
   ],
   "source": [
    "#6. Write a function array_attributes that takes a NumPy array as input and returns its shape, size, and data type\n",
    "\n",
    "def array_attributes(array):\n",
    "    return array.shape,array.size,array.dtype\n",
    "    \n",
    "array=np.array([1,2,3,4,5])\n",
    "print(array_attributes(array))\n",
    "\n"
   ]
  },
  {
   "cell_type": "code",
   "execution_count": 80,
   "id": "31ae47bf-9d53-4db1-9092-bec4a123d572",
   "metadata": {},
   "outputs": [
    {
     "data": {
      "text/plain": [
       "1"
      ]
     },
     "execution_count": 80,
     "metadata": {},
     "output_type": "execute_result"
    }
   ],
   "source": [
    "#.  Create a function array_dimension that returns the dimensionality of a NumPyarray\n",
    "\n",
    "def array_dimension(array):\n",
    "    return array.ndim\n",
    "array=np.array([1,2,3,4,5])\n",
    "array_dimension(array)"
   ]
  },
  {
   "cell_type": "code",
   "execution_count": 88,
   "id": "64178e7a-8e4e-421f-856b-19fede1f6e40",
   "metadata": {},
   "outputs": [
    {
     "name": "stdout",
     "output_type": "stream",
     "text": [
      "(4, 20)\n",
      "int32\n"
     ]
    }
   ],
   "source": [
    "#8. Design a function item_size_info that returns the item size and total size in bytes of a NumPy array\n",
    "def item_size_info(array):\n",
    "    return array.itemsize,array.nbytes\n",
    "array=np.array([1,2,3,4,5])\n",
    "print(item_size_info(array))\n",
    "print(array.dtype)\n",
    "\n",
    "    "
   ]
  },
  {
   "cell_type": "code",
   "execution_count": 92,
   "id": "56cd6b04-6f8c-4969-8df4-5740c8e786c0",
   "metadata": {},
   "outputs": [
    {
     "data": {
      "text/plain": [
       "(4,)"
      ]
     },
     "execution_count": 92,
     "metadata": {},
     "output_type": "execute_result"
    }
   ],
   "source": [
    "#. Create a function array_strides that returns the strides of the given NumPy array\n",
    "\n",
    "def array_strides(array):\n",
    "    return array.strides\n",
    "array=np.array([1,2,3,4,5])\n",
    "array_strides(array)\n",
    "\n"
   ]
  },
  {
   "cell_type": "code",
   "execution_count": 100,
   "id": "38c9affb-948b-4732-97b6-8bb3090fef36",
   "metadata": {},
   "outputs": [
    {
     "data": {
      "text/plain": [
       "((2, 4), (16, 4))"
      ]
     },
     "execution_count": 100,
     "metadata": {},
     "output_type": "execute_result"
    }
   ],
   "source": [
    "#0. Design a function shape_stride_relationship that returns the shape and strides of the given array\n",
    "def shape_stride_relationship(arr):\n",
    "    return arr.shape,arr.strides\n",
    "arr=np.array([[1,2,3,4],[5,6,7,8]])\n",
    "shape_stride_relationship(arr)"
   ]
  },
  {
   "cell_type": "code",
   "execution_count": null,
   "id": "183e4da6-e2c9-41cb-94e6-ae275b16dc7a",
   "metadata": {},
   "outputs": [],
   "source": []
  }
 ],
 "metadata": {
  "kernelspec": {
   "display_name": "Python 3 (ipykernel)",
   "language": "python",
   "name": "python3"
  },
  "language_info": {
   "codemirror_mode": {
    "name": "ipython",
    "version": 3
   },
   "file_extension": ".py",
   "mimetype": "text/x-python",
   "name": "python",
   "nbconvert_exporter": "python",
   "pygments_lexer": "ipython3",
   "version": "3.12.4"
  }
 },
 "nbformat": 4,
 "nbformat_minor": 5
}
