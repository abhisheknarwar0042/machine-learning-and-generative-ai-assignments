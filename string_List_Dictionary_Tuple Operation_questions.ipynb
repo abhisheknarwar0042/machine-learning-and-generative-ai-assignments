{
 "cells": [
  {
   "cell_type": "code",
   "execution_count": 2,
   "id": "6d41a448-e30b-4505-ba6a-290a6d8d60be",
   "metadata": {},
   "outputs": [
    {
     "name": "stdout",
     "output_type": "stream",
     "text": [
      "a hello is sentence sorted this\n"
     ]
    }
   ],
   "source": [
    "#1. Write a program to sort words in a sentence alphabetically\n",
    "\n",
    "#abc def ghi jkl mno\n",
    "def sort_words(sentence):\n",
    "    words = sentence.split()  \n",
    "    words.sort()             \n",
    "    return ' '.join(words)    \n",
    "\n",
    "# Example\n",
    "sentence = \"hello this is a sorted sentence\"\n",
    "print(sort_words(sentence))\n"
   ]
  },
  {
   "cell_type": "code",
   "execution_count": 4,
   "id": "2b32d84f-3276-4d6a-9d51-e2c3931b8a88",
   "metadata": {},
   "outputs": [
    {
     "data": {
      "text/plain": [
       "'abc def ghi jkl mno'"
      ]
     },
     "execution_count": 4,
     "metadata": {},
     "output_type": "execute_result"
    }
   ],
   "source": [
    "sort_words('abc def ghi jkl mno')"
   ]
  },
  {
   "cell_type": "code",
   "execution_count": 20,
   "id": "b44a2c2e-e57e-453e-b9d3-acb978e01984",
   "metadata": {},
   "outputs": [
    {
     "name": "stdout",
     "output_type": "stream",
     "text": [
      "{'a': 2, 'b': 3, 'c': 4, 'd': 5, 'e': 6, 'f': 7}\n"
     ]
    }
   ],
   "source": [
    "#2. Concatenate two dictionaries and print the result\n",
    "\n",
    "dict1={'a':2,'b':3,'c':4}\n",
    "dict2={'d':5,'e':6,'f':7}\n",
    "dict1.update(dict2)\n",
    "print(dict1)\n",
    "\n",
    "\n",
    "\n"
   ]
  },
  {
   "cell_type": "code",
   "execution_count": 32,
   "id": "1a447960-5bbb-4c8e-8c3f-dfb68ebab7b1",
   "metadata": {},
   "outputs": [],
   "source": [
    "#3. Count how many vowels are present in each word of a sentence\n",
    "#abhishek narwar is an engineer\n",
    "\n",
    "def count(s):\n",
    "    vowels='aeiouAEIOU'\n",
    "    list=s.split()\n",
    "    count=0\n",
    "    for i in list:\n",
    "        for j in i:\n",
    "            if j in vowels:\n",
    "                count+=1\n",
    "    return count\n",
    "                "
   ]
  },
  {
   "cell_type": "code",
   "execution_count": 34,
   "id": "ae7059a0-356e-48c1-aba2-4eb74e7fbdbc",
   "metadata": {},
   "outputs": [
    {
     "data": {
      "text/plain": [
       "11"
      ]
     },
     "execution_count": 34,
     "metadata": {},
     "output_type": "execute_result"
    }
   ],
   "source": [
    "count(\"abhishek narwar is an engineer\")"
   ]
  },
  {
   "cell_type": "code",
   "execution_count": 36,
   "id": "451941fc-55f1-4350-ba9e-2ebf3a0d9080",
   "metadata": {},
   "outputs": [
    {
     "data": {
      "text/plain": [
       "5"
      ]
     },
     "execution_count": 36,
     "metadata": {},
     "output_type": "execute_result"
    }
   ],
   "source": [
    "count('abhishek narwar')"
   ]
  },
  {
   "cell_type": "code",
   "execution_count": 44,
   "id": "249105af-1010-4e2e-8805-db9e9796c837",
   "metadata": {},
   "outputs": [
    {
     "name": "stdout",
     "output_type": "stream",
     "text": [
      "abhishek → 3\n",
      "narwar → 2\n",
      "is → 1\n",
      "an → 1\n",
      "engineer → 4\n"
     ]
    }
   ],
   "source": [
    "def count_vowels_per_word(s):\n",
    "    vowels = 'aeiouAEIOU'\n",
    "    words = s.split()\n",
    "    \n",
    "    for word in words:\n",
    "        count = 0\n",
    "        for char in word:\n",
    "            if char in vowels:\n",
    "                count += 1\n",
    "        print(f\"{word} → {count}\")\n",
    "\n",
    "sentence = \"abhishek narwar is an engineer\"\n",
    "count_vowels_per_word(sentence)\n"
   ]
  },
  {
   "cell_type": "code",
   "execution_count": 46,
   "id": "e6019bdc-165f-4a4a-95a0-a304ab57cb69",
   "metadata": {},
   "outputs": [
    {
     "data": {
      "text/plain": [
       "[1, 2, 3, 4]"
      ]
     },
     "execution_count": 46,
     "metadata": {},
     "output_type": "execute_result"
    }
   ],
   "source": [
    "#34. Accept a tuple and convert it into a list\n",
    "\n",
    "t=(1,2,3,4)\n",
    "list(t)\n",
    "\n",
    "\n",
    "\n",
    "\n"
   ]
  },
  {
   "cell_type": "code",
   "execution_count": 82,
   "id": "b404a97b-5563-4c1e-9221-b46fcbc34d8f",
   "metadata": {},
   "outputs": [
    {
     "name": "stdout",
     "output_type": "stream",
     "text": [
      "abhishek\n"
     ]
    }
   ],
   "source": [
    "#5. Remove all whitespace from a given string using a function\n",
    "def remove_space(st):\n",
    "    st=st.replace(' ','')\n",
    "    return st\n",
    "print(remove_space('     abhi   shek   '  ))\n",
    "\n",
    "\n"
   ]
  },
  {
   "cell_type": "code",
   "execution_count": 130,
   "id": "20f15258-bb3d-400b-bd5b-fcfab369c3bc",
   "metadata": {},
   "outputs": [
    {
     "name": "stdout",
     "output_type": "stream",
     "text": [
      "{'a': 1, 'b': 2, 'c': 3, 'd': 4}\n"
     ]
    }
   ],
   "source": [
    "#merge two list as key and value\n",
    "list1 = ['a', 'b', 'c', 'd']\n",
    "list2 = [1, 2, 3, 4]\n",
    "\n",
    "d = dict(zip(list1, list2))\n",
    "print(d)\n"
   ]
  },
  {
   "cell_type": "code",
   "execution_count": 156,
   "id": "a99a15f8-f6c5-449e-9305-ea4ec41ec390",
   "metadata": {},
   "outputs": [
    {
     "name": "stdout",
     "output_type": "stream",
     "text": [
      "Key with maximum value: b\n"
     ]
    }
   ],
   "source": [
    "#7. Write a program to get the key with the maximum value in a dictionary\n",
    "\n",
    "\n",
    "my_dict = {'a': 10, 'b' :25, 'c': 17, 'd': 5}\n",
    "\n",
    "\n",
    "max_key = max(my_dict, key=my_dict.get)\n",
    "\n",
    "print(\"Key with maximum value:\", max_key)"
   ]
  },
  {
   "cell_type": "code",
   "execution_count": 158,
   "id": "6395f671-d697-4c23-9cb2-9d1f35d2c3ad",
   "metadata": {},
   "outputs": [
    {
     "name": "stdout",
     "output_type": "stream",
     "text": [
      "{'abhishek': 2, 'is': 2, 'a': 1, 'good': 1, 'boy': 1, 'and': 1, 'smart': 1}\n"
     ]
    }
   ],
   "source": [
    "#8. Accept a string and print a dictionary with word frequencies\n",
    "\n",
    "\n",
    "def word_frequency(s):\n",
    "    words = s.split()\n",
    "    freq = {}\n",
    "\n",
    "    for word in words:\n",
    "        if word in freq:\n",
    "            freq[word] += 1\n",
    "        else:\n",
    "            freq[word] = 1\n",
    "\n",
    "    return freq\n",
    "\n",
    "sentence = \"abhishek is a good boy and abhishek is smart\"\n",
    "result = word_frequency(sentence)\n",
    "print(result)\n",
    "\n",
    "\n",
    "\n",
    "\n"
   ]
  },
  {
   "cell_type": "code",
   "execution_count": 160,
   "id": "4d51d6e3-08c0-473d-b17a-912a2d6b0115",
   "metadata": {},
   "outputs": [
    {
     "name": "stdout",
     "output_type": "stream",
     "text": [
      "Key exists in the dictionary.\n"
     ]
    }
   ],
   "source": [
    "#9. Write a program to check if a key exists in a dictionary\n",
    "\n",
    "\n",
    "my_dict = {'a': 1, 'b': 2, 'c': 3}\n",
    "\n",
    "key_to_check = 'b'\n",
    "\n",
    "if key_to_check in my_dict:\n",
    "    print(\"Key exists in the dictionary.\")\n",
    "else:\n",
    "    print(\"Key does not exist in the dictionary.\")\n"
   ]
  },
  {
   "cell_type": "code",
   "execution_count": 180,
   "id": "121ec5ce-b07a-45c5-bf05-d756a760e68d",
   "metadata": {},
   "outputs": [
    {
     "name": "stdout",
     "output_type": "stream",
     "text": [
      "*bh*sh*k\n"
     ]
    }
   ],
   "source": [
    "#0. Write a program to replace all the vowels in a string with '*'.\n",
    "\n",
    "\n",
    "def replace_vowel(string):\n",
    "    vowels = 'aeiouAEIOU'\n",
    "    res = ''\n",
    "    for i in string:\n",
    "        if i in vowels:\n",
    "            res += '*'\n",
    "        else:\n",
    "            res += i\n",
    "    return res\n",
    "\n",
    "string = 'abhishek'\n",
    "print(replace_vowel(string))\n",
    "\n",
    "        \n",
    "\n"
   ]
  },
  {
   "cell_type": "code",
   "execution_count": null,
   "id": "39ef53da-9b3e-4939-a19b-bdf6c2e9e524",
   "metadata": {},
   "outputs": [],
   "source": []
  }
 ],
 "metadata": {
  "kernelspec": {
   "display_name": "Python 3 (ipykernel)",
   "language": "python",
   "name": "python3"
  },
  "language_info": {
   "codemirror_mode": {
    "name": "ipython",
    "version": 3
   },
   "file_extension": ".py",
   "mimetype": "text/x-python",
   "name": "python",
   "nbconvert_exporter": "python",
   "pygments_lexer": "ipython3",
   "version": "3.12.4"
  }
 },
 "nbformat": 4,
 "nbformat_minor": 5
}
