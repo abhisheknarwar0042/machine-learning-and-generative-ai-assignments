{
 "cells": [
  {
   "cell_type": "code",
   "execution_count": 10,
   "id": "04fbcf83-af2a-42a5-82ee-ad90ac8a5a9a",
   "metadata": {},
   "outputs": [
    {
     "name": "stdout",
     "output_type": "stream",
     "text": [
      "hi, i am abhishek i am here to learn python to become master in python.\n"
     ]
    }
   ],
   "source": [
    "#read file content and display\n",
    "\n",
    "file = open('abhishek.txt', 'r') \n",
    "content = file.read()             \n",
    "print(content)                    \n",
    "file.close()                     \n"
   ]
  },
  {
   "cell_type": "code",
   "execution_count": 16,
   "id": "eef503e3-20ab-4b67-a696-72b1c3de9438",
   "metadata": {},
   "outputs": [
    {
     "name": "stdout",
     "output_type": "stream",
     "text": [
      "['hi,', 'i', 'am', 'abhishek', 'i', 'am', 'here', 'to', 'learn', 'python', 'to', 'become', 'master', 'in', 'python.']\n"
     ]
    },
    {
     "data": {
      "text/plain": [
       "15"
      ]
     },
     "execution_count": 16,
     "metadata": {},
     "output_type": "execute_result"
    }
   ],
   "source": [
    "#count no of words in a file\n",
    "\n",
    "file=open('abhishek.txt', 'r')\n",
    "content=file.read()\n",
    "\n",
    "print(content.split())\n",
    "len(content.split())\n",
    "\n",
    "\n",
    "\n"
   ]
  },
  {
   "cell_type": "code",
   "execution_count": 18,
   "id": "600be740-09e1-42fa-8b55-454d2419f585",
   "metadata": {},
   "outputs": [
    {
     "name": "stdout",
     "output_type": "stream",
     "text": [
      "File copied successfully!\n"
     ]
    }
   ],
   "source": [
    "#copy file to another\n",
    "file1 = open('abhishek.txt', 'r')\n",
    "content = file1.read()\n",
    "file1.close()\n",
    "\n",
    "file2 = open('destination.txt', 'w')\n",
    "file2.write(content)\n",
    "file2.close()\n",
    "\n",
    "print(\"File copied successfully!\")\n"
   ]
  },
  {
   "cell_type": "code",
   "execution_count": 20,
   "id": "c0918b39-3e9a-47aa-a924-adfe8921e82c",
   "metadata": {},
   "outputs": [
    {
     "name": "stdout",
     "output_type": "stream",
     "text": [
      "hi, i am abhishek i am here to learn python to become master in python.\n"
     ]
    }
   ],
   "source": [
    "#print line with character more than 50\n",
    "file = open('abhishek.txt', 'r')\n",
    "lines = file.readlines()\n",
    "\n",
    "for line in lines:\n",
    "    if len(line.strip()) > 50:\n",
    "        print(line.strip())\n",
    "\n",
    "file.close()\n"
   ]
  },
  {
   "cell_type": "code",
   "execution_count": 22,
   "id": "99fe9ba6-8df8-44de-984f-6533628a6f3a",
   "metadata": {},
   "outputs": [
    {
     "name": "stdout",
     "output_type": "stream",
     "text": [
      "List written to file successfully.\n"
     ]
    }
   ],
   "source": [
    "\n",
    "#Write a program to write a list of strings into a text file \n",
    "lines = ['Abhishek is learning Python',\n",
    "         'He is a good student',\n",
    "         'File handling is easy in Python']\n",
    "\n",
    "file = open('abhishek.txt', 'w')\n",
    "\n",
    "for line in lines:\n",
    "    file.write(line + '\\n')  # Write each line with a newline character\n",
    "\n",
    "file.close()\n",
    "print(\"List written to file successfully.\")\n"
   ]
  },
  {
   "cell_type": "code",
   "execution_count": null,
   "id": "101394df-37d7-421c-910b-90720e87fc85",
   "metadata": {},
   "outputs": [],
   "source": []
  }
 ],
 "metadata": {
  "kernelspec": {
   "display_name": "Python 3 (ipykernel)",
   "language": "python",
   "name": "python3"
  },
  "language_info": {
   "codemirror_mode": {
    "name": "ipython",
    "version": 3
   },
   "file_extension": ".py",
   "mimetype": "text/x-python",
   "name": "python",
   "nbconvert_exporter": "python",
   "pygments_lexer": "ipython3",
   "version": "3.12.4"
  }
 },
 "nbformat": 4,
 "nbformat_minor": 5
}
