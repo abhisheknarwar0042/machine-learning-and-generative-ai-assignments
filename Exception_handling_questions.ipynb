{
 "cells": [
  {
   "cell_type": "code",
   "execution_count": 8,
   "id": "fa26b436-2b2b-46ff-be46-d5775149e2b5",
   "metadata": {},
   "outputs": [
    {
     "name": "stdin",
     "output_type": "stream",
     "text": [
      "enter n1 10\n",
      "enter n2 5\n"
     ]
    },
    {
     "name": "stdout",
     "output_type": "stream",
     "text": [
      "2\n",
      "program run succesfully\n"
     ]
    }
   ],
   "source": [
    "# Write a program to take two numbers as input and handle division by zero\n",
    "try:\n",
    "    n1=int(input(\"enter n1\"))\n",
    "    n2=int(input(\"enter n2\"))\n",
    "    res=n1//n2\n",
    "    print(res)\n",
    "except  ZeroDivisionError:\n",
    "    print(\"please n2 not eqaul to 0\")\n",
    "finally:\n",
    "    print('program runs succesfully')\n"
   ]
  },
  {
   "cell_type": "code",
   "execution_count": 14,
   "id": "6e132bf2-5c31-42ea-ac1a-69a2fe604708",
   "metadata": {},
   "outputs": [
    {
     "name": "stdin",
     "output_type": "stream",
     "text": [
      "Enter a number:  109\n"
     ]
    },
    {
     "name": "stdout",
     "output_type": "stream",
     "text": [
      "Entered value is correct: 109\n",
      "Program runs successfully.\n"
     ]
    }
   ],
   "source": [
    "#7. Handle invalid user input (e.g., entering a string when a number is expected)\n",
    "try:\n",
    "    num = int(input(\"Enter a number: \"))\n",
    "    print(\"Entered value is correct:\", num)\n",
    "except ValueError:\n",
    "    print(\"Invalid input! Please enter a number, not a string.\")\n",
    "finally:\n",
    "    print(\"Program runs successfully.\")\n",
    "\n"
   ]
  },
  {
   "cell_type": "code",
   "execution_count": 30,
   "id": "559076bb-8c3a-47ea-bd7f-a2b9080661c6",
   "metadata": {},
   "outputs": [
    {
     "name": "stdout",
     "output_type": "stream",
     "text": [
      "hi, i am abhishek narwar here to learn python to become master in python\n",
      "file opened\n",
      "program run successfully\n"
     ]
    }
   ],
   "source": [
    "#. Try to open a file that doesn’t exist and handle the  FileNotFoundError\n",
    "try:\n",
    "  file=open('abhishek.txt','r')\n",
    "  content=file.read()\n",
    "  print(content)\n",
    "  file.close()\n",
    "  print('file opened')\n",
    "except FileNotFoundError:\n",
    "    print(\"this file is not exist\")\n",
    "finally:\n",
    "    print(\"program run successfully\")\n"
   ]
  },
  {
   "cell_type": "code",
   "execution_count": 62,
   "id": "25eff401-851f-48c7-b3ae-1a534d3b2910",
   "metadata": {},
   "outputs": [
    {
     "name": "stdin",
     "output_type": "stream",
     "text": [
      "Enter index to access:  56\n"
     ]
    },
    {
     "name": "stdout",
     "output_type": "stream",
     "text": [
      "Index out of range!\n",
      "Program runs successfully.\n"
     ]
    }
   ],
   "source": [
    "try:\n",
    "    user_input = int(input(\"Enter index to access: \"))\n",
    "    lst = [0, 1, 2, 3, 4]\n",
    "    print(\"Value at index:\", lst[user_input])\n",
    "except IndexError:\n",
    "    print(\"Index out of range!\")\n",
    "finally:\n",
    "    print(\"Program runs successfully.\")\n"
   ]
  },
  {
   "cell_type": "code",
   "execution_count": null,
   "id": "e2636fea-91aa-45a5-883a-157600067942",
   "metadata": {},
   "outputs": [],
   "source": [
    "#0. Use a try-except-finally block to demonstrate the execution of the finally clause.\n"
   ]
  }
 ],
 "metadata": {
  "kernelspec": {
   "display_name": "Python 3 (ipykernel)",
   "language": "python",
   "name": "python3"
  },
  "language_info": {
   "codemirror_mode": {
    "name": "ipython",
    "version": 3
   },
   "file_extension": ".py",
   "mimetype": "text/x-python",
   "name": "python",
   "nbconvert_exporter": "python",
   "pygments_lexer": "ipython3",
   "version": "3.12.4"
  }
 },
 "nbformat": 4,
 "nbformat_minor": 5
}
